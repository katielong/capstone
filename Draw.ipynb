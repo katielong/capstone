{
 "cells": [
  {
   "cell_type": "code",
   "execution_count": 3,
   "metadata": {},
   "outputs": [],
   "source": [
    "import dill\n",
    "import os\n",
    "\n",
    "os.chdir('/Users/longy/Documents/TDI/capstone')\n",
    "tag_summary = dill.load(open('tag_summary.pkd', 'red'))"
   ]
  },
  {
   "cell_type": "code",
   "execution_count": null,
   "metadata": {},
   "outputs": [],
   "source": [
    "# # y_train_scaled = scaler.fit(list(y_train))\n",
    "# hist, edges = np.histogram(list(y_train), density = True, bins = 50)\n",
    "# p1 = figure(title = '', x_range = names, plot_height = 400)\n",
    "# # stems\n",
    "# p.segment(dat, upper.score, cats, q3.score, line_color=\"black\")\n",
    "# p.segment(cats, lower.score, cats, q1.score, line_color=\"black\")\n",
    "\n",
    "# # boxes\n",
    "# p.vbar(cats, 0.7, q2.score, q3.score, fill_color=\"#E08E79\", line_color=\"black\")\n",
    "# p.vbar(cats, 0.7, q1.score, q2.score, fill_color=\"#3B8686\", line_color=\"black\")\n",
    "\n",
    "# # whiskers (almost-0 height rects simpler than segments)\n",
    "# p.rect(cats, lower.score, 0.2, 0.01, line_color=\"black\")\n",
    "# p.rect(cats, upper.score, 0.2, 0.01, line_color=\"black\")"
   ]
  }
 ],
 "metadata": {
  "kernelspec": {
   "display_name": "Python 2",
   "language": "python",
   "name": "python2"
  },
  "language_info": {
   "codemirror_mode": {
    "name": "ipython",
    "version": 2
   },
   "file_extension": ".py",
   "mimetype": "text/x-python",
   "name": "python",
   "nbconvert_exporter": "python",
   "pygments_lexer": "ipython2",
   "version": "2.7.14"
  }
 },
 "nbformat": 4,
 "nbformat_minor": 2
}
