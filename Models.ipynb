{
 "cells": [
  {
   "cell_type": "code",
   "execution_count": 219,
   "metadata": {
    "collapsed": true
   },
   "outputs": [],
   "source": [
    "# Question Characteristics: \n",
    "# Tags, Length of Post, Network Characteristics of user, (to come: Language used)\n",
    "# Outcome: Time till First Answer, Time till first (good) Answer\n",
    "# (One week from today, how many answers expected to receive? how many good answers expected to receive?)"
   ]
  },
  {
   "cell_type": "code",
   "execution_count": 220,
   "metadata": {
    "collapsed": true
   },
   "outputs": [],
   "source": [
    "import dill\n",
    "import os\n",
    "import random\n",
    "import pandas as pd\n",
    "from pandas import Series\n",
    "from sklearn import base, model_selection\n",
    "from sklearn.ensemble import RandomForestRegressor\n",
    "from sklearn.pipeline import Pipeline, FeatureUnion\n",
    "from sklearn.model_selection import train_test_split\n",
    "from sklearn.linear_model import LinearRegression, Ridge, ElasticNet\n",
    "from sklearn.metrics import mean_squared_error\n",
    "from sklearn.preprocessing import StandardScaler\n",
    "import numpy as np\n",
    "import matplotlib.pyplot as plt\n",
    "\n",
    "from bokeh.layouts import gridplot\n",
    "from bokeh.plotting import figure, show, output_file\n",
    "\n",
    "os.chdir('/home/vagrant/projects/stackoverflow-post')\n",
    "df_tag = dill.load(open('data/df_tag.pkd', 'r'))\n",
    "centrality = dill.load(open('centrality.pkd', 'r'))\n",
    "top10tags = dill.load(open('data/top10tags.pkd', 'r'))\n",
    "# body_len_est = dill.load(open('body_len_est.pkd', 'r'))\n",
    "# tag_rf_est = dill.load(open('tag_rf_est.pkd', 'r'))\n",
    "# network_est = dill.load(open('network_est.pkd', 'r'))"
   ]
  },
  {
   "cell_type": "code",
   "execution_count": 221,
   "metadata": {},
   "outputs": [
    {
     "name": "stderr",
     "output_type": "stream",
     "text": [
      "/opt/conda/lib/python2.7/site-packages/ipykernel_launcher.py:2: SettingWithCopyWarning: \n",
      "A value is trying to be set on a copy of a slice from a DataFrame.\n",
      "Try using .loc[row_indexer,col_indexer] = value instead\n",
      "\n",
      "See the caveats in the documentation: http://pandas.pydata.org/pandas-docs/stable/indexing.html#indexing-view-versus-copy\n",
      "  \n"
     ]
    }
   ],
   "source": [
    "dataset = df_tag[np.isfinite(df_tag['fa_time'])]\n",
    "dataset['top10'] = dataset[top10tags].sum(axis=1)\n",
    "dataset = dataset.loc[dataset.top10 == 1] #only focus on tags in top 10\n",
    "dataset = dataset.drop(['top10'], axis = 1)"
   ]
  },
  {
   "cell_type": "code",
   "execution_count": 222,
   "metadata": {},
   "outputs": [],
   "source": [
    "data = dataset.join(centrality, on = 'q_owner') #join network matrix\n",
    "X = data.loc[:, data.columns != 'fa_time']\n",
    "y = data.fa_time\n",
    "X_train, X_test, y_train, y_test = train_test_split(X, y, test_size = 0.2, random_state=42)"
   ]
  },
  {
   "cell_type": "code",
   "execution_count": 223,
   "metadata": {},
   "outputs": [
    {
     "data": {
      "text/html": [
       "<div>\n",
       "<style>\n",
       "    .dataframe thead tr:only-child th {\n",
       "        text-align: right;\n",
       "    }\n",
       "\n",
       "    .dataframe thead th {\n",
       "        text-align: left;\n",
       "    }\n",
       "\n",
       "    .dataframe tbody tr th {\n",
       "        vertical-align: top;\n",
       "    }\n",
       "</style>\n",
       "<table border=\"1\" class=\"dataframe\">\n",
       "  <thead>\n",
       "    <tr style=\"text-align: right;\">\n",
       "      <th></th>\n",
       "      <th>fa_score</th>\n",
       "      <th>fa_time</th>\n",
       "      <th>q_body</th>\n",
       "      <th>q_body_len</th>\n",
       "      <th>q_date</th>\n",
       "      <th>q_owner</th>\n",
       "      <th>q_score</th>\n",
       "      <th>q_tag</th>\n",
       "      <th>q_title</th>\n",
       "      <th>s10_time</th>\n",
       "      <th>...</th>\n",
       "      <th>out degree</th>\n",
       "      <th>degree centrality</th>\n",
       "      <th>in degree centrality</th>\n",
       "      <th>out degree centrality</th>\n",
       "      <th>allN</th>\n",
       "      <th>outN</th>\n",
       "      <th>inN</th>\n",
       "      <th>avg_n_contact</th>\n",
       "      <th>avg_n_in_contact</th>\n",
       "      <th>avg_n_out_contact</th>\n",
       "    </tr>\n",
       "  </thead>\n",
       "  <tbody>\n",
       "    <tr>\n",
       "      <th>0</th>\n",
       "      <td>4.0</td>\n",
       "      <td>434.554</td>\n",
       "      <td>&lt;p&gt;I am thinking along the lines of replicatin...</td>\n",
       "      <td>367</td>\n",
       "      <td>2008-09-19 05:09:25.977</td>\n",
       "      <td>essexboyracer</td>\n",
       "      <td>0</td>\n",
       "      <td>&lt;php&gt;</td>\n",
       "      <td>Convert/extract phpinfo() into php.ini</td>\n",
       "      <td>NaN</td>\n",
       "      <td>...</td>\n",
       "      <td>4</td>\n",
       "      <td>0.000027</td>\n",
       "      <td>0.0</td>\n",
       "      <td>0.000027</td>\n",
       "      <td>4</td>\n",
       "      <td>4</td>\n",
       "      <td>0</td>\n",
       "      <td>1.0</td>\n",
       "      <td>NaN</td>\n",
       "      <td>1.0</td>\n",
       "    </tr>\n",
       "    <tr>\n",
       "      <th>1</th>\n",
       "      <td>2.0</td>\n",
       "      <td>11504.657</td>\n",
       "      <td>&lt;p&gt;Has anyone any reources for learning how to...</td>\n",
       "      <td>402</td>\n",
       "      <td>2008-09-24 06:42:46.107</td>\n",
       "      <td>essexboyracer</td>\n",
       "      <td>2</td>\n",
       "      <td>&lt;php&gt;&lt;mysql&gt;&lt;svg&gt;&lt;vector-graphics&gt;&lt;php-gtk&gt;</td>\n",
       "      <td>Interactive SVG - Learning Resources?</td>\n",
       "      <td>NaN</td>\n",
       "      <td>...</td>\n",
       "      <td>4</td>\n",
       "      <td>0.000027</td>\n",
       "      <td>0.0</td>\n",
       "      <td>0.000027</td>\n",
       "      <td>4</td>\n",
       "      <td>4</td>\n",
       "      <td>0</td>\n",
       "      <td>1.0</td>\n",
       "      <td>NaN</td>\n",
       "      <td>1.0</td>\n",
       "    </tr>\n",
       "    <tr>\n",
       "      <th>2</th>\n",
       "      <td>1.0</td>\n",
       "      <td>1630433.760</td>\n",
       "      <td>&lt;p&gt;I'm trying to decode a WBXML encoded SyncML...</td>\n",
       "      <td>632</td>\n",
       "      <td>2008-10-22 15:25:00.777</td>\n",
       "      <td>11542</td>\n",
       "      <td>1</td>\n",
       "      <td>&lt;python&gt;&lt;s60&gt;&lt;syncml&gt;&lt;wbxml&gt;</td>\n",
       "      <td>Decoding a WBXML SyncML message from an S60 de...</td>\n",
       "      <td>NaN</td>\n",
       "      <td>...</td>\n",
       "      <td>24</td>\n",
       "      <td>0.000164</td>\n",
       "      <td>0.0</td>\n",
       "      <td>0.000164</td>\n",
       "      <td>24</td>\n",
       "      <td>24</td>\n",
       "      <td>0</td>\n",
       "      <td>1.0</td>\n",
       "      <td>NaN</td>\n",
       "      <td>1.0</td>\n",
       "    </tr>\n",
       "    <tr>\n",
       "      <th>5</th>\n",
       "      <td>6.0</td>\n",
       "      <td>54503.460</td>\n",
       "      <td>&lt;p&gt;How can UTF-8 strings (i.e. 8-bit string) b...</td>\n",
       "      <td>975</td>\n",
       "      <td>2008-09-22 23:55:02.883</td>\n",
       "      <td>11543</td>\n",
       "      <td>0</td>\n",
       "      <td>&lt;php&gt;&lt;html&gt;&lt;xml&gt;&lt;unicode&gt;&lt;utf-8&gt;</td>\n",
       "      <td>Convert a UTF-8 string to/from 7-bit XML in PHP</td>\n",
       "      <td>NaN</td>\n",
       "      <td>...</td>\n",
       "      <td>0</td>\n",
       "      <td>0.000000</td>\n",
       "      <td>0.0</td>\n",
       "      <td>0.000000</td>\n",
       "      <td>0</td>\n",
       "      <td>0</td>\n",
       "      <td>0</td>\n",
       "      <td>NaN</td>\n",
       "      <td>NaN</td>\n",
       "      <td>NaN</td>\n",
       "    </tr>\n",
       "    <tr>\n",
       "      <th>6</th>\n",
       "      <td>20.0</td>\n",
       "      <td>455.910</td>\n",
       "      <td>&lt;p&gt;JavaScript allows functions to be treated a...</td>\n",
       "      <td>749</td>\n",
       "      <td>2008-09-23 22:30:54.573</td>\n",
       "      <td>11543</td>\n",
       "      <td>0</td>\n",
       "      <td>&lt;javascript&gt;&lt;function&gt;&lt;properties&gt;</td>\n",
       "      <td>How to convert an \"object\" into a function in ...</td>\n",
       "      <td>455.91</td>\n",
       "      <td>...</td>\n",
       "      <td>0</td>\n",
       "      <td>0.000000</td>\n",
       "      <td>0.0</td>\n",
       "      <td>0.000000</td>\n",
       "      <td>0</td>\n",
       "      <td>0</td>\n",
       "      <td>0</td>\n",
       "      <td>NaN</td>\n",
       "      <td>NaN</td>\n",
       "      <td>NaN</td>\n",
       "    </tr>\n",
       "  </tbody>\n",
       "</table>\n",
       "<p>5 rows × 63 columns</p>\n",
       "</div>"
      ],
      "text/plain": [
       "   fa_score      fa_time                                             q_body  \\\n",
       "0       4.0      434.554  <p>I am thinking along the lines of replicatin...   \n",
       "1       2.0    11504.657  <p>Has anyone any reources for learning how to...   \n",
       "2       1.0  1630433.760  <p>I'm trying to decode a WBXML encoded SyncML...   \n",
       "5       6.0    54503.460  <p>How can UTF-8 strings (i.e. 8-bit string) b...   \n",
       "6      20.0      455.910  <p>JavaScript allows functions to be treated a...   \n",
       "\n",
       "   q_body_len                  q_date        q_owner  q_score  \\\n",
       "0         367 2008-09-19 05:09:25.977  essexboyracer        0   \n",
       "1         402 2008-09-24 06:42:46.107  essexboyracer        2   \n",
       "2         632 2008-10-22 15:25:00.777          11542        1   \n",
       "5         975 2008-09-22 23:55:02.883          11543        0   \n",
       "6         749 2008-09-23 22:30:54.573          11543        0   \n",
       "\n",
       "                                         q_tag  \\\n",
       "0                                        <php>   \n",
       "1  <php><mysql><svg><vector-graphics><php-gtk>   \n",
       "2                 <python><s60><syncml><wbxml>   \n",
       "5             <php><html><xml><unicode><utf-8>   \n",
       "6           <javascript><function><properties>   \n",
       "\n",
       "                                             q_title  s10_time  \\\n",
       "0             Convert/extract phpinfo() into php.ini       NaN   \n",
       "1              Interactive SVG - Learning Resources?       NaN   \n",
       "2  Decoding a WBXML SyncML message from an S60 de...       NaN   \n",
       "5    Convert a UTF-8 string to/from 7-bit XML in PHP       NaN   \n",
       "6  How to convert an \"object\" into a function in ...    455.91   \n",
       "\n",
       "         ...          out degree  degree centrality  in degree centrality  \\\n",
       "0        ...                   4           0.000027                   0.0   \n",
       "1        ...                   4           0.000027                   0.0   \n",
       "2        ...                  24           0.000164                   0.0   \n",
       "5        ...                   0           0.000000                   0.0   \n",
       "6        ...                   0           0.000000                   0.0   \n",
       "\n",
       "   out degree centrality  allN  outN  inN  avg_n_contact  avg_n_in_contact  \\\n",
       "0               0.000027     4     4    0            1.0               NaN   \n",
       "1               0.000027     4     4    0            1.0               NaN   \n",
       "2               0.000164    24    24    0            1.0               NaN   \n",
       "5               0.000000     0     0    0            NaN               NaN   \n",
       "6               0.000000     0     0    0            NaN               NaN   \n",
       "\n",
       "   avg_n_out_contact  \n",
       "0                1.0  \n",
       "1                1.0  \n",
       "2                1.0  \n",
       "5                NaN  \n",
       "6                NaN  \n",
       "\n",
       "[5 rows x 63 columns]"
      ]
     },
     "execution_count": 223,
     "metadata": {},
     "output_type": "execute_result"
    }
   ],
   "source": [
    "data.head()"
   ]
  },
  {
   "cell_type": "code",
   "execution_count": 224,
   "metadata": {
    "collapsed": true
   },
   "outputs": [],
   "source": [
    "bodynames = ['q_body_len'] #post language characteristics\n",
    "tagnames = list(X_train.columns.values[12:50]) #tags of post\n",
    "nxnames = list(X_train.columns.values[50:]) #network centrality of user (who posted questions)"
   ]
  },
  {
   "cell_type": "code",
   "execution_count": 225,
   "metadata": {},
   "outputs": [],
   "source": [
    "class ColumnSelectTransformer(base.BaseEstimator, base.TransformerMixin):\n",
    "    def __init__(self, col_names):\n",
    "        self.col_names = col_names\n",
    "    def fit(self, X, y=None):\n",
    "        return self\n",
    "    def transform(self, X):\n",
    "        return X[self.col_names]\n",
    "\n",
    "class FillNetworkNATransformer(base.BaseEstimator, base.TransformerMixin):\n",
    "    def __init__(self):\n",
    "        None\n",
    "    def fit(self, X, y=None):\n",
    "        return self\n",
    "    def transform(self, X):\n",
    "        return X.fillna(0)\n",
    "    \n",
    "class EstimatorTransformer(base.BaseEstimator, base.TransformerMixin):\n",
    "    def __init__(self, estimator):\n",
    "        self.estimator = estimator\n",
    "    def fit(self, X, y):\n",
    "        self.estimator.fit(X, y)\n",
    "        return self\n",
    "    def transform(self, X):\n",
    "        return np.array([self.estimator.predict(X)]).T\n",
    "# class EnsembleTransformer(base.BaseEstimator, base.TransformerMixin):\n",
    "#     def __init__(self, base_estimator, residual_estimator):\n",
    "#         self.base_estimator = base_estimator\n",
    "#         self.residual_estimator = residual_estimator\n",
    "#     def fit(self, X, y):\n",
    "#         self.base_estimator.fit(X, y)\n",
    "#         y_err = y-self.base_estimator.predict(X)\n",
    "#         self.residual_estimator.fit(X, y_err)\n",
    "#         return self\n",
    "#     def transform(self, X):\n",
    "#         all_ests = [self.base_estimator] + [self.residual_estimator]\n",
    "#         return np.array([est.predict(X) for est in all_ests]).T\n",
    "# scaler = StandardScaler()"
   ]
  },
  {
   "cell_type": "code",
   "execution_count": 226,
   "metadata": {},
   "outputs": [],
   "source": [
    "# use Random Forest Estimator\n",
    "md_range = np.arange(2,22,2) #search max_depth = 2:20\n",
    "msl_range = np.arange(20,35,5) #search min_sanokes_leaf = 20,25,30,35\n",
    "ne_range = np.arange(10,40,5) #search n_estimators = 10,15,20,25,30,35\n",
    "est = RandomForestRegressor()\n",
    "rf = model_selection.GridSearchCV(\n",
    "    est, \n",
    "    {'max_depth': md_range,\n",
    "    'min_samples_leaf': msl_range,\n",
    "    'n_estimators': ne_range},\n",
    "    cv = 10,\n",
    "    n_jobs = 2,\n",
    "    scoring = 'neg_mean_squared_error'\n",
    ")"
   ]
  },
  {
   "cell_type": "code",
   "execution_count": 227,
   "metadata": {},
   "outputs": [
    {
     "data": {
      "text/plain": [
       "GridSearchCV(cv=10, error_score='raise',\n",
       "       estimator=RandomForestRegressor(bootstrap=True, criterion='mse', max_depth=None,\n",
       "           max_features='auto', max_leaf_nodes=None,\n",
       "           min_impurity_split=1e-07, min_samples_leaf=1,\n",
       "           min_samples_split=2, min_weight_fraction_leaf=0.0,\n",
       "           n_estimators=10, n_jobs=1, oob_score=False, random_state=None,\n",
       "           verbose=0, warm_start=False),\n",
       "       fit_params={}, iid=True, n_jobs=2,\n",
       "       param_grid={'n_estimators': array([10, 15, 20, 25, 30, 35]), 'max_depth': array([ 2,  4,  6,  8, 10, 12, 14, 16, 18, 20]), 'min_samples_leaf': array([20, 25, 30])},\n",
       "       pre_dispatch='2*n_jobs', refit=True, return_train_score=True,\n",
       "       scoring='neg_mean_squared_error', verbose=0)"
      ]
     },
     "execution_count": 227,
     "metadata": {},
     "output_type": "execute_result"
    }
   ],
   "source": [
    "#1. question body length\n",
    "cst = ColumnSelectTransformer(bodynames)\n",
    "x_train = cst.fit_transform(X_train)\n",
    "rf.fit(x_train, y_train)"
   ]
  },
  {
   "cell_type": "code",
   "execution_count": 228,
   "metadata": {},
   "outputs": [
    {
     "data": {
      "text/plain": [
       "RandomForestRegressor(bootstrap=True, criterion='mse', max_depth=2,\n",
       "           max_features='auto', max_leaf_nodes=None,\n",
       "           min_impurity_split=1e-07, min_samples_leaf=30,\n",
       "           min_samples_split=2, min_weight_fraction_leaf=0.0,\n",
       "           n_estimators=15, n_jobs=1, oob_score=False, random_state=None,\n",
       "           verbose=0, warm_start=False)"
      ]
     },
     "execution_count": 228,
     "metadata": {},
     "output_type": "execute_result"
    }
   ],
   "source": [
    "rf.best_estimator_"
   ]
  },
  {
   "cell_type": "code",
   "execution_count": 229,
   "metadata": {
    "collapsed": true
   },
   "outputs": [],
   "source": [
    "body_len_est = Pipeline([\n",
    "    ('csv', ColumnSelectTransformer(bodynames)),\n",
    "    ('en', rf.best_estimator_)\n",
    "])\n",
    "body_len_est.fit(X_train, y_train)\n",
    "dill.dump(body_len_est, open('body_len_est.pkd', 'w'))"
   ]
  },
  {
   "cell_type": "code",
   "execution_count": 230,
   "metadata": {},
   "outputs": [
    {
     "data": {
      "text/plain": [
       "GridSearchCV(cv=10, error_score='raise',\n",
       "       estimator=RandomForestRegressor(bootstrap=True, criterion='mse', max_depth=None,\n",
       "           max_features='auto', max_leaf_nodes=None,\n",
       "           min_impurity_split=1e-07, min_samples_leaf=1,\n",
       "           min_samples_split=2, min_weight_fraction_leaf=0.0,\n",
       "           n_estimators=10, n_jobs=1, oob_score=False, random_state=None,\n",
       "           verbose=0, warm_start=False),\n",
       "       fit_params={}, iid=True, n_jobs=2,\n",
       "       param_grid={'n_estimators': array([10, 15, 20, 25, 30, 35]), 'max_depth': array([ 2,  4,  6,  8, 10, 12, 14, 16, 18, 20]), 'min_samples_leaf': array([20, 25, 30])},\n",
       "       pre_dispatch='2*n_jobs', refit=True, return_train_score=True,\n",
       "       scoring='neg_mean_squared_error', verbose=0)"
      ]
     },
     "execution_count": 230,
     "metadata": {},
     "output_type": "execute_result"
    }
   ],
   "source": [
    "# Tags\n",
    "cst = ColumnSelectTransformer(tagnames)\n",
    "x_train = cst.transform(X_train)\n",
    "rf.fit(x_train, y_train)"
   ]
  },
  {
   "cell_type": "code",
   "execution_count": 231,
   "metadata": {},
   "outputs": [
    {
     "data": {
      "text/plain": [
       "RandomForestRegressor(bootstrap=True, criterion='mse', max_depth=4,\n",
       "           max_features='auto', max_leaf_nodes=None,\n",
       "           min_impurity_split=1e-07, min_samples_leaf=30,\n",
       "           min_samples_split=2, min_weight_fraction_leaf=0.0,\n",
       "           n_estimators=30, n_jobs=1, oob_score=False, random_state=None,\n",
       "           verbose=0, warm_start=False)"
      ]
     },
     "execution_count": 231,
     "metadata": {},
     "output_type": "execute_result"
    }
   ],
   "source": [
    "rf.best_estimator_"
   ]
  },
  {
   "cell_type": "code",
   "execution_count": 232,
   "metadata": {
    "collapsed": true
   },
   "outputs": [],
   "source": [
    "tag_rf_est = Pipeline([\n",
    "    ('csv', ColumnSelectTransformer(tagnames)),\n",
    "    ('en', rf.best_estimator_)\n",
    "])\n",
    "tag_rf_est.fit(X_train, y_train)\n",
    "dill.dump(tag_rf_est, open('tag_rf_est.pkd', 'w'))"
   ]
  },
  {
   "cell_type": "code",
   "execution_count": 233,
   "metadata": {},
   "outputs": [
    {
     "data": {
      "text/plain": [
       "GridSearchCV(cv=10, error_score='raise',\n",
       "       estimator=RandomForestRegressor(bootstrap=True, criterion='mse', max_depth=None,\n",
       "           max_features='auto', max_leaf_nodes=None,\n",
       "           min_impurity_split=1e-07, min_samples_leaf=1,\n",
       "           min_samples_split=2, min_weight_fraction_leaf=0.0,\n",
       "           n_estimators=10, n_jobs=1, oob_score=False, random_state=None,\n",
       "           verbose=0, warm_start=False),\n",
       "       fit_params={}, iid=True, n_jobs=2,\n",
       "       param_grid={'n_estimators': array([10, 15, 20, 25, 30, 35]), 'max_depth': array([ 2,  4,  6,  8, 10, 12, 14, 16, 18, 20]), 'min_samples_leaf': array([20, 25, 30])},\n",
       "       pre_dispatch='2*n_jobs', refit=True, return_train_score=True,\n",
       "       scoring='neg_mean_squared_error', verbose=0)"
      ]
     },
     "execution_count": 233,
     "metadata": {},
     "output_type": "execute_result"
    }
   ],
   "source": [
    "#3 network centrality\n",
    "cst = ColumnSelectTransformer(nxnames)\n",
    "fna = FillNetworkNATransformer()\n",
    "x_train = cst.transform(X_train)\n",
    "x_train = fna.transform(x_train)\n",
    "rf.fit(x_train, y_train)"
   ]
  },
  {
   "cell_type": "code",
   "execution_count": 234,
   "metadata": {},
   "outputs": [
    {
     "data": {
      "text/plain": [
       "RandomForestRegressor(bootstrap=True, criterion='mse', max_depth=4,\n",
       "           max_features='auto', max_leaf_nodes=None,\n",
       "           min_impurity_split=1e-07, min_samples_leaf=30,\n",
       "           min_samples_split=2, min_weight_fraction_leaf=0.0,\n",
       "           n_estimators=20, n_jobs=1, oob_score=False, random_state=None,\n",
       "           verbose=0, warm_start=False)"
      ]
     },
     "execution_count": 234,
     "metadata": {},
     "output_type": "execute_result"
    }
   ],
   "source": [
    "rf.best_estimator_"
   ]
  },
  {
   "cell_type": "code",
   "execution_count": 235,
   "metadata": {},
   "outputs": [],
   "source": [
    "network_est = Pipeline([\n",
    "    ('csv', ColumnSelectTransformer(nxnames)),\n",
    "    ('fna', FillNetworkNATransformer()),\n",
    "    ('en', rf.best_estimator_)\n",
    "])"
   ]
  },
  {
   "cell_type": "code",
   "execution_count": 236,
   "metadata": {},
   "outputs": [],
   "source": [
    "network_est.fit(X_train, y_train)\n",
    "dill.dump(network_est, open('network_est.pkd', 'w'))"
   ]
  },
  {
   "cell_type": "code",
   "execution_count": 237,
   "metadata": {
    "collapsed": true
   },
   "outputs": [],
   "source": [
    "body_len_trans = EstimatorTransformer(body_len_est)\n",
    "tag_rf_trans = EstimatorTransformer(tag_rf_est)\n",
    "network_trans = EstimatorTransformer(network_est)"
   ]
  },
  {
   "cell_type": "code",
   "execution_count": 238,
   "metadata": {
    "collapsed": true
   },
   "outputs": [],
   "source": [
    "union = FeatureUnion([\n",
    "    ('body_len', body_len_trans),\n",
    "    ('tag_rf', tag_rf_trans),\n",
    "    ('network', network_trans)\n",
    "])"
   ]
  },
  {
   "cell_type": "code",
   "execution_count": 239,
   "metadata": {},
   "outputs": [
    {
     "data": {
      "text/plain": [
       "FeatureUnion(n_jobs=1,\n",
       "       transformer_list=[('body_len', EstimatorTransformer(estimator=Pipeline(steps=[('csv', ColumnSelectTransformer(col_names=['q_body_len'])), ('en', RandomForestRegressor(bootstrap=True, criterion='mse', max_depth=2,\n",
       "           max_features='auto', max_leaf_nodes=None,\n",
       "           min_impurity_split=1e-0...tors=20, n_jobs=1, oob_score=False, random_state=None,\n",
       "           verbose=0, warm_start=False))])))],\n",
       "       transformer_weights=None)"
      ]
     },
     "execution_count": 239,
     "metadata": {},
     "output_type": "execute_result"
    }
   ],
   "source": [
    "# union.fit(X)\n",
    "union.fit(X_train, y_train)"
   ]
  },
  {
   "cell_type": "code",
   "execution_count": 240,
   "metadata": {},
   "outputs": [
    {
     "data": {
      "text/plain": [
       "Pipeline(steps=[('union', FeatureUnion(n_jobs=1,\n",
       "       transformer_list=[('body_len', EstimatorTransformer(estimator=Pipeline(steps=[('csv', ColumnSelectTransformer(col_names=['q_body_len'])), ('en', RandomForestRegressor(bootstrap=True, criterion='mse', max_depth=2,\n",
       "           max_features='auto', max_leaf...timators=10, n_jobs=1, oob_score=False, random_state=None,\n",
       "           verbose=0, warm_start=False))])"
      ]
     },
     "execution_count": 240,
     "metadata": {},
     "output_type": "execute_result"
    }
   ],
   "source": [
    "full_est = Pipeline([\n",
    "    ('union', union),\n",
    "    ('blend', RandomForestRegressor(min_samples_leaf = 20))\n",
    "])\n",
    "full_est.fit(X_train, y_train)"
   ]
  },
  {
   "cell_type": "code",
   "execution_count": 241,
   "metadata": {},
   "outputs": [],
   "source": [
    "pred = full_est.predict(X_test)"
   ]
  },
  {
   "cell_type": "code",
   "execution_count": 245,
   "metadata": {},
   "outputs": [
    {
     "data": {
      "image/png": "[encoded data removed]",
      "text/plain": [
       "<matplotlib.figure.Figure at 0x7fcb0d4834d0>"
      ]
     },
     "metadata": {},
     "output_type": "display_data"
    }
   ],
   "source": [
    "# plt.plot(pred, 'bo', y_test, 'ro', markersize=5)\n",
    "# plt.show()\n",
    "thrh = y_test.max()\n",
    "fig, ax = plt.subplots(figsize=(20,20))\n",
    "ax.scatter(y_test, pred, edgecolors=(0, 0, 0))\n",
    "ax.plot([y_test.min(), thrh], [y_test.min(), thrh], 'k--', lw=4)\n",
    "ax.set_xlim([y_test.min(), thrh])\n",
    "ax.set_ylim([y_test.min(), thrh])\n",
    "ax.set_xlabel('Real')\n",
    "ax.set_ylabel('Predicted')\n",
    "plt.show()"
   ]
  },
  {
   "cell_type": "code",
   "execution_count": null,
   "metadata": {
    "collapsed": true
   },
   "outputs": [],
   "source": []
  }
 ],
 "metadata": {
  "kernelspec": {
   "display_name": "Python 2",
   "language": "python",
   "name": "python2"
  },
  "language_info": {
   "codemirror_mode": {
    "name": "ipython",
    "version": 2
   },
   "file_extension": ".py",
   "mimetype": "text/x-python",
   "name": "python",
   "nbconvert_exporter": "python",
   "pygments_lexer": "ipython2",
   "version": "2.7.13"
  }
 },
 "nbformat": 4,
 "nbformat_minor": 2
}
