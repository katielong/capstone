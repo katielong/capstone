{
 "cells": [
  {
   "cell_type": "code",
   "execution_count": 1,
   "metadata": {
    "collapsed": true
   },
   "outputs": [],
   "source": [
    "# Question Characteristics: \n",
    "# Tags, Length of Post, Network Characteristics of user, (to come: Language used)\n",
    "# Outcome: Time till First Answer, Time till first (good) Answer\n",
    "# (One week from today, how many answers expected to receive? how many good answers expected to receive?)"
   ]
  },
  {
   "cell_type": "code",
   "execution_count": 2,
   "metadata": {
    "collapsed": true
   },
   "outputs": [],
   "source": [
    "import dill\n",
    "import os\n",
    "import random\n",
    "import pandas as pd\n",
    "from pandas import Series\n",
    "from sklearn import base, model_selection\n",
    "from sklearn.ensemble import RandomForestRegressor\n",
    "from sklearn.pipeline import Pipeline, FeatureUnion\n",
    "from sklearn.model_selection import train_test_split\n",
    "from sklearn.linear_model import LinearRegression, Ridge, ElasticNet\n",
    "from sklearn.metrics import mean_squared_error\n",
    "from sklearn.preprocessing import StandardScaler\n",
    "import numpy as np\n",
    "import matplotlib.pyplot as plt\n",
    "from bs4 import BeautifulSoup\n",
    "from bokeh.layouts import gridplot\n",
    "from bokeh.plotting import figure, show, output_file\n",
    "from sklearn.feature_extraction.text import TfidfTransformer, TfidfVectorizer\n",
    "\n",
    "os.chdir('/home/vagrant/projects/stackoverflow-post')\n",
    "df_tag = dill.load(open('data/df_tag.pkd', 'r'))\n",
    "centrality = dill.load(open('data/centrality.pkd', 'r'))\n",
    "top10tags = dill.load(open('data/top10tags.pkd', 'r'))\n",
    "q_char_est = dill.load(open('est/q_char_est.pkd', 'r'))\n",
    "tag_rf_est = dill.load(open('est/tag_rf_est.pkd', 'r'))\n",
    "network_est = dill.load(open('est/network_est.pkd', 'r'))\n",
    "bag_of_words_est = dill.load(open('est/bag_of_words_est.pkd', 'r'))\n",
    "full_est = dill.load(open('est/full_est.pkd', 'r'))"
   ]
  },
  {
   "cell_type": "code",
   "execution_count": 11,
   "metadata": {},
   "outputs": [
    {
     "name": "stderr",
     "output_type": "stream",
     "text": [
      "/opt/conda/lib/python2.7/site-packages/ipykernel_launcher.py:2: SettingWithCopyWarning: \n",
      "A value is trying to be set on a copy of a slice from a DataFrame.\n",
      "Try using .loc[row_indexer,col_indexer] = value instead\n",
      "\n",
      "See the caveats in the documentation: http://pandas.pydata.org/pandas-docs/stable/indexing.html#indexing-view-versus-copy\n",
      "  \n"
     ]
    }
   ],
   "source": [
    "dataset = df_tag[np.isfinite(df_tag['fa_time'])]\n",
    "dataset['top10'] = dataset[top10tags].sum(axis=1)\n",
    "dataset = dataset.loc[dataset.top10 == 1] #only focus on tags in top 10\n",
    "dataset = dataset.drop(['top10'], axis = 1)"
   ]
  },
  {
   "cell_type": "code",
   "execution_count": 12,
   "metadata": {
    "collapsed": true
   },
   "outputs": [],
   "source": [
    "data = dataset.join(centrality, on = 'q_owner') #join network matrix\n",
    "data['q_day'] = pd.Categorical(data['q_day'], categories=[\"Monday\", \"Tuesday\", \"Wednesday\", \"Thursday\", \"Friday\", \"Saturday\", \"Sunday\"],ordered=True).codes\n",
    "X = data.loc[:, data.columns != 'fa_time']\n",
    "y = data.fa_time\n",
    "X_train, X_test, y_train, y_test = train_test_split(X, y, test_size = 0.2, random_state=42)"
   ]
  },
  {
   "cell_type": "code",
   "execution_count": 13,
   "metadata": {},
   "outputs": [
    {
     "data": {
      "text/plain": [
       "Index([u'fa_score', u'fa_time', u'q_body', u'q_body_len', u'q_date', u'q_day',\n",
       "       u'q_hour', u'q_owner', u'q_score', u'q_tag', u'q_title', u's10_time',\n",
       "       u's20_time', u's50_time', u's5_time', u'.net', u'ajax', u'algorithm',\n",
       "       u'asp.net', u'asp.net-mvc', u'c', u'c#', u'c++', u'css', u'database',\n",
       "       u'html', u'iphone', u'java', u'javascript', u'jquery', u'linq',\n",
       "       u'linux', u'multithreading', u'mysql', u'performance', u'php',\n",
       "       u'python', u'regex', u'ruby', u'ruby-on-rails', u'security', u'sql',\n",
       "       u'sql-server', u'svn', u'unit-testing', u'vb.net', u'visual-studio',\n",
       "       u'visual-studio-2008', u'web-services', u'windows', u'winforms', u'wpf',\n",
       "       u'xml', u'degree', u'in degree', u'out degree', u'degree centrality',\n",
       "       u'in degree centrality', u'out degree centrality', u'allN', u'outN',\n",
       "       u'inN', u'avg_n_contact', u'avg_n_in_contact', u'avg_n_out_contact'],\n",
       "      dtype='object')"
      ]
     },
     "execution_count": 13,
     "metadata": {},
     "output_type": "execute_result"
    }
   ],
   "source": [
    "data.columns"
   ]
  },
  {
   "cell_type": "code",
   "execution_count": 14,
   "metadata": {
    "collapsed": true
   },
   "outputs": [],
   "source": [
    "bodynames = ['q_body_len', 'q_day', 'q_hour'] #question characteristics\n",
    "bodyTnames = ['q_body']\n",
    "tagnames = [u'.net', u'ajax', u'algorithm',\n",
    "       u'asp.net', u'asp.net-mvc', u'c', u'c#', u'c++', u'css', u'database',\n",
    "       u'html', u'iphone', u'java', u'javascript', u'jquery', u'linq',\n",
    "       u'linux', u'multithreading', u'mysql', u'performance', u'php',\n",
    "       u'python', u'regex', u'ruby', u'ruby-on-rails', u'security', u'sql',\n",
    "       u'sql-server', u'svn', u'unit-testing', u'vb.net', u'visual-studio',\n",
    "       u'visual-studio-2008', u'web-services', u'windows', u'winforms', u'wpf',\n",
    "       u'xml'] #tags of post\n",
    "nxnames = [u'degree', u'in degree', u'out degree', u'degree centrality',\n",
    "       u'in degree centrality', u'out degree centrality', u'allN', u'outN',\n",
    "       u'inN', u'avg_n_contact', u'avg_n_in_contact', u'avg_n_out_contact'] #network centrality of user (who posted questions)"
   ]
  },
  {
   "cell_type": "code",
   "execution_count": 15,
   "metadata": {
    "collapsed": true
   },
   "outputs": [],
   "source": [
    "class ColumnSelectTransformer(base.BaseEstimator, base.TransformerMixin):\n",
    "    def __init__(self, col_names):\n",
    "        self.col_names = col_names\n",
    "    def fit(self, X, y=None):\n",
    "        return self\n",
    "    def transform(self, X):\n",
    "        return X[self.col_names]\n",
    "\n",
    "class FillNetworkNATransformer(base.BaseEstimator, base.TransformerMixin):\n",
    "    def __init__(self):\n",
    "        None\n",
    "    def fit(self, X, y=None):\n",
    "        return self\n",
    "    def transform(self, X):\n",
    "        return X.fillna(0)\n",
    "    \n",
    "class EstimatorTransformer(base.BaseEstimator, base.TransformerMixin):\n",
    "    def __init__(self, estimator):\n",
    "        self.estimator = estimator\n",
    "    def fit(self, X, y):\n",
    "        self.estimator.fit(X, y)\n",
    "        return self\n",
    "    def transform(self, X):\n",
    "        return np.array([self.estimator.predict(X)]).T\n",
    "\n",
    "class ExtractBodyTextTransformer(base.BaseEstimator, base.TransformerMixin):\n",
    "    def __init__(self):\n",
    "        None\n",
    "    def fit(self, X, y=None):\n",
    "        return self\n",
    "    def transform(self, X):\n",
    "        body = [[p.text for p in BeautifulSoup(html, 'lxml').find_all('p')] for html in X['q_body']]\n",
    "        bodytext = [''.join(arr) for arr in body]\n",
    "        return bodytext"
   ]
  },
  {
   "cell_type": "code",
   "execution_count": 2,
   "metadata": {
    "collapsed": true
   },
   "outputs": [],
   "source": [
    "# use Random Forest Estimator\n",
    "md_range = np.arange(2,22,2) #search max_depth = 2:20\n",
    "msl_range = np.arange(20,35,5) #search min_samples_leaf = 20,25,30,35\n",
    "ne_range = np.arange(10,40,5) #search n_estimators = 10,15,20,25,30,35\n",
    "est = RandomForestRegressor()\n",
    "rf = model_selection.GridSearchCV(\n",
    "    est, \n",
    "    {'max_depth': md_range,\n",
    "    'min_samples_leaf': msl_range,\n",
    "    'n_estimators': ne_range},\n",
    "    cv = 10,\n",
    "    n_jobs = 5,\n",
    "    scoring = 'neg_mean_squared_error'\n",
    ")"
   ]
  },
  {
   "cell_type": "code",
   "execution_count": 35,
   "metadata": {},
   "outputs": [
    {
     "data": {
      "text/plain": [
       "GridSearchCV(cv=10, error_score='raise',\n",
       "       estimator=RandomForestRegressor(bootstrap=True, criterion='mse', max_depth=None,\n",
       "           max_features='auto', max_leaf_nodes=None,\n",
       "           min_impurity_split=1e-07, min_samples_leaf=1,\n",
       "           min_samples_split=2, min_weight_fraction_leaf=0.0,\n",
       "           n_estimators=10, n_jobs=1, oob_score=False, random_state=None,\n",
       "           verbose=0, warm_start=False),\n",
       "       fit_params={}, iid=True, n_jobs=2,\n",
       "       param_grid={'n_estimators': array([10, 15, 20, 25, 30, 35]), 'max_depth': array([ 2,  4,  6,  8, 10, 12, 14, 16, 18, 20]), 'min_samples_leaf': array([20, 25, 30])},\n",
       "       pre_dispatch='2*n_jobs', refit=True, return_train_score=True,\n",
       "       scoring='neg_mean_squared_error', verbose=0)"
      ]
     },
     "execution_count": 35,
     "metadata": {},
     "output_type": "execute_result"
    }
   ],
   "source": [
    "#1. question characteristics: body length, post day, post time\n",
    "cst = ColumnSelectTransformer(bodynames)\n",
    "x_train = cst.fit_transform(X_train)\n",
    "rf.fit(x_train, y_train)"
   ]
  },
  {
   "cell_type": "code",
   "execution_count": 36,
   "metadata": {},
   "outputs": [
    {
     "data": {
      "text/plain": [
       "RandomForestRegressor(bootstrap=True, criterion='mse', max_depth=2,\n",
       "           max_features='auto', max_leaf_nodes=None,\n",
       "           min_impurity_split=1e-07, min_samples_leaf=30,\n",
       "           min_samples_split=2, min_weight_fraction_leaf=0.0,\n",
       "           n_estimators=10, n_jobs=1, oob_score=False, random_state=None,\n",
       "           verbose=0, warm_start=False)"
      ]
     },
     "execution_count": 36,
     "metadata": {},
     "output_type": "execute_result"
    }
   ],
   "source": [
    "rf.best_estimator_"
   ]
  },
  {
   "cell_type": "code",
   "execution_count": 37,
   "metadata": {
    "collapsed": true
   },
   "outputs": [],
   "source": [
    "q_char_est = Pipeline([\n",
    "    ('csv', ColumnSelectTransformer(bodynames)),\n",
    "    ('en', rf.best_estimator_)\n",
    "])\n",
    "q_char_est.fit(X_train, y_train)\n",
    "dill.dump(q_char_est, open('est/q_char_est.pkd', 'w'))"
   ]
  },
  {
   "cell_type": "code",
   "execution_count": 38,
   "metadata": {},
   "outputs": [
    {
     "data": {
      "text/plain": [
       "GridSearchCV(cv=10, error_score='raise',\n",
       "       estimator=RandomForestRegressor(bootstrap=True, criterion='mse', max_depth=None,\n",
       "           max_features='auto', max_leaf_nodes=None,\n",
       "           min_impurity_split=1e-07, min_samples_leaf=1,\n",
       "           min_samples_split=2, min_weight_fraction_leaf=0.0,\n",
       "           n_estimators=10, n_jobs=1, oob_score=False, random_state=None,\n",
       "           verbose=0, warm_start=False),\n",
       "       fit_params={}, iid=True, n_jobs=2,\n",
       "       param_grid={'n_estimators': array([10, 15, 20, 25, 30, 35]), 'max_depth': array([ 2,  4,  6,  8, 10, 12, 14, 16, 18, 20]), 'min_samples_leaf': array([20, 25, 30])},\n",
       "       pre_dispatch='2*n_jobs', refit=True, return_train_score=True,\n",
       "       scoring='neg_mean_squared_error', verbose=0)"
      ]
     },
     "execution_count": 38,
     "metadata": {},
     "output_type": "execute_result"
    }
   ],
   "source": [
    "# Tags\n",
    "cst = ColumnSelectTransformer(tagnames)\n",
    "x_train = cst.transform(X_train)\n",
    "rf.fit(x_train, y_train)"
   ]
  },
  {
   "cell_type": "code",
   "execution_count": 39,
   "metadata": {},
   "outputs": [
    {
     "data": {
      "text/plain": [
       "RandomForestRegressor(bootstrap=True, criterion='mse', max_depth=4,\n",
       "           max_features='auto', max_leaf_nodes=None,\n",
       "           min_impurity_split=1e-07, min_samples_leaf=30,\n",
       "           min_samples_split=2, min_weight_fraction_leaf=0.0,\n",
       "           n_estimators=25, n_jobs=1, oob_score=False, random_state=None,\n",
       "           verbose=0, warm_start=False)"
      ]
     },
     "execution_count": 39,
     "metadata": {},
     "output_type": "execute_result"
    }
   ],
   "source": [
    "rf.best_estimator_"
   ]
  },
  {
   "cell_type": "code",
   "execution_count": null,
   "metadata": {
    "collapsed": true
   },
   "outputs": [],
   "source": [
    "tag_rf_est = Pipeline([\n",
    "    ('csv', ColumnSelectTransformer(tagnames)),\n",
    "    ('en', rf.best_estimator_)\n",
    "])\n",
    "tag_rf_est.fit(X_train, y_train)\n",
    "dill.dump(tag_rf_est, open('est/tag_rf_est.pkd', 'w'))"
   ]
  },
  {
   "cell_type": "code",
   "execution_count": 42,
   "metadata": {},
   "outputs": [
    {
     "data": {
      "text/plain": [
       "GridSearchCV(cv=10, error_score='raise',\n",
       "       estimator=RandomForestRegressor(bootstrap=True, criterion='mse', max_depth=None,\n",
       "           max_features='auto', max_leaf_nodes=None,\n",
       "           min_impurity_split=1e-07, min_samples_leaf=1,\n",
       "           min_samples_split=2, min_weight_fraction_leaf=0.0,\n",
       "           n_estimators=10, n_jobs=1, oob_score=False, random_state=None,\n",
       "           verbose=0, warm_start=False),\n",
       "       fit_params={}, iid=True, n_jobs=2,\n",
       "       param_grid={'n_estimators': array([10, 15, 20, 25, 30, 35]), 'max_depth': array([ 2,  4,  6,  8, 10, 12, 14, 16, 18, 20]), 'min_samples_leaf': array([20, 25, 30])},\n",
       "       pre_dispatch='2*n_jobs', refit=True, return_train_score=True,\n",
       "       scoring='neg_mean_squared_error', verbose=0)"
      ]
     },
     "execution_count": 42,
     "metadata": {},
     "output_type": "execute_result"
    }
   ],
   "source": [
    "#3 network centrality\n",
    "cst = ColumnSelectTransformer(nxnames)\n",
    "fna = FillNetworkNATransformer()\n",
    "x_train = cst.transform(X_train)\n",
    "x_train = fna.transform(x_train)\n",
    "rf.fit(x_train, y_train)"
   ]
  },
  {
   "cell_type": "code",
   "execution_count": 43,
   "metadata": {},
   "outputs": [
    {
     "data": {
      "text/plain": [
       "RandomForestRegressor(bootstrap=True, criterion='mse', max_depth=2,\n",
       "           max_features='auto', max_leaf_nodes=None,\n",
       "           min_impurity_split=1e-07, min_samples_leaf=20,\n",
       "           min_samples_split=2, min_weight_fraction_leaf=0.0,\n",
       "           n_estimators=20, n_jobs=1, oob_score=False, random_state=None,\n",
       "           verbose=0, warm_start=False)"
      ]
     },
     "execution_count": 43,
     "metadata": {},
     "output_type": "execute_result"
    }
   ],
   "source": [
    "rf.best_estimator_"
   ]
  },
  {
   "cell_type": "code",
   "execution_count": 44,
   "metadata": {
    "collapsed": true
   },
   "outputs": [],
   "source": [
    "network_est = Pipeline([\n",
    "    ('csv', ColumnSelectTransformer(nxnames)),\n",
    "    ('fna', FillNetworkNATransformer()),\n",
    "    ('en', rf.best_estimator_)\n",
    "])"
   ]
  },
  {
   "cell_type": "code",
   "execution_count": 45,
   "metadata": {
    "collapsed": true
   },
   "outputs": [],
   "source": [
    "network_est.fit(X_train, y_train)\n",
    "dill.dump(network_est, open('est/network_est.pkd', 'w'))"
   ]
  },
  {
   "cell_type": "code",
   "execution_count": 20,
   "metadata": {},
   "outputs": [
    {
     "data": {
      "text/plain": [
       "GridSearchCV(cv=10, error_score='raise',\n",
       "       estimator=RandomForestRegressor(bootstrap=True, criterion='mse', max_depth=None,\n",
       "           max_features='auto', max_leaf_nodes=None,\n",
       "           min_impurity_split=1e-07, min_samples_leaf=1,\n",
       "           min_samples_split=2, min_weight_fraction_leaf=0.0,\n",
       "           n_estimators=10, n_jobs=1, oob_score=False, random_state=None,\n",
       "           verbose=0, warm_start=False),\n",
       "       fit_params={}, iid=True, n_jobs=5,\n",
       "       param_grid={'n_estimators': array([10, 15, 20, 25, 30, 35]), 'max_depth': array([ 2,  4,  6,  8, 10, 12, 14, 16, 18, 20]), 'min_samples_leaf': array([20, 25, 30])},\n",
       "       pre_dispatch='2*n_jobs', refit=True, return_train_score=True,\n",
       "       scoring='neg_mean_squared_error', verbose=0)"
      ]
     },
     "execution_count": 20,
     "metadata": {},
     "output_type": "execute_result"
    }
   ],
   "source": [
    "#3 language\n",
    "cst = ColumnSelectTransformer(bodyTnames)\n",
    "ebt = ExtractBodyTextTransformer()\n",
    "tfidf = TfidfVectorizer(min_df = 30, max_df = 300)\n",
    "\n",
    "x_train = cst.fit_transform(X_train)\n",
    "x_train = ebt.fit_transform(x_train)\n",
    "x_train = tfidf.fit_transform(x_train)\n",
    "rf.fit(x_train, y_train)"
   ]
  },
  {
   "cell_type": "code",
   "execution_count": 21,
   "metadata": {},
   "outputs": [
    {
     "data": {
      "text/plain": [
       "RandomForestRegressor(bootstrap=True, criterion='mse', max_depth=6,\n",
       "           max_features='auto', max_leaf_nodes=None,\n",
       "           min_impurity_split=1e-07, min_samples_leaf=30,\n",
       "           min_samples_split=2, min_weight_fraction_leaf=0.0,\n",
       "           n_estimators=25, n_jobs=1, oob_score=False, random_state=None,\n",
       "           verbose=0, warm_start=False)"
      ]
     },
     "execution_count": 21,
     "metadata": {},
     "output_type": "execute_result"
    }
   ],
   "source": [
    "rf.best_estimator_"
   ]
  },
  {
   "cell_type": "code",
   "execution_count": 22,
   "metadata": {
    "collapsed": true
   },
   "outputs": [],
   "source": [
    "bag_of_words_est = Pipeline([\n",
    "    ('cst', ColumnSelectTransformer(bodyTnames)),\n",
    "    ('ebt', ExtractBodyTextTransformer()),\n",
    "    ('tfidf', TfidfVectorizer(min_df = 30, max_df = 300)),\n",
    "    ('rf', LinearRegression())\n",
    "])\n",
    "bag_of_words_est.fit(X_train, y_train)\n",
    "dill.dump(bag_of_words_est, open('est/bag_of_words_est.pkd', 'w'))"
   ]
  },
  {
   "cell_type": "code",
   "execution_count": 23,
   "metadata": {
    "collapsed": true
   },
   "outputs": [],
   "source": [
    "#FULL Estimator\n",
    "q_char_trans = EstimatorTransformer(q_char_est)\n",
    "tag_rf_trans = EstimatorTransformer(tag_rf_est)\n",
    "network_trans = EstimatorTransformer(network_est)\n",
    "bag_of_words_est_trans = EstimatorTransformer(bag_of_words_est)"
   ]
  },
  {
   "cell_type": "code",
   "execution_count": 24,
   "metadata": {
    "collapsed": true
   },
   "outputs": [],
   "source": [
    "union = FeatureUnion([\n",
    "    ('q_char', q_char_trans),\n",
    "    ('tag_rf', tag_rf_trans),\n",
    "    ('network', network_trans),\n",
    "    ('bag_of_words_est_trans', bag_of_words_est_trans)\n",
    "])"
   ]
  },
  {
   "cell_type": "code",
   "execution_count": 25,
   "metadata": {},
   "outputs": [
    {
     "data": {
      "text/plain": [
       "FeatureUnion(n_jobs=1,\n",
       "       transformer_list=[('q_char', EstimatorTransformer(estimator=Pipeline(steps=[('csv', ColumnSelectTransformer(col_names=['q_body_len', 'q_day', 'q_hour'])), ('en', RandomForestRegressor(bootstrap=True, criterion='mse', max_depth=2,\n",
       "           max_features='auto', max_leaf_nodes=None,\n",
       "           min_im...ry=None)), ('rf', LinearRegression(copy_X=True, fit_intercept=True, n_jobs=1, normalize=False))])))],\n",
       "       transformer_weights=None)"
      ]
     },
     "execution_count": 25,
     "metadata": {},
     "output_type": "execute_result"
    }
   ],
   "source": [
    "# union.fit(X)\n",
    "union.fit(X_train, y_train)"
   ]
  },
  {
   "cell_type": "code",
   "execution_count": 26,
   "metadata": {
    "collapsed": true
   },
   "outputs": [],
   "source": [
    "full_est = Pipeline([\n",
    "    ('union', union),\n",
    "    ('blend', RandomForestRegressor())\n",
    "])\n",
    "full_est.fit(X_train, y_train)\n",
    "dill.dump(full_est, open('est/full_est.pkd', 'w'))"
   ]
  },
  {
   "cell_type": "code",
   "execution_count": 27,
   "metadata": {
    "collapsed": true
   },
   "outputs": [],
   "source": [
    "pred = full_est.predict(X_train)\n",
    "real = y_train\n",
    "# pred = bag_of_words_est.predict(X_test)"
   ]
  },
  {
   "cell_type": "code",
   "execution_count": 28,
   "metadata": {},
   "outputs": [
    {
     "data": {
      "image/png": "[encoded data removed]",
      "text/plain": [
       "<matplotlib.figure.Figure at 0x7f5f75bc22d0>"
      ]
     },
     "metadata": {},
     "output_type": "display_data"
    }
   ],
   "source": [
    "thrh = real.max()\n",
    "fig, ax = plt.subplots(figsize=(20,20))\n",
    "ax.scatter(real, pred, edgecolors=(0, 0, 0))\n",
    "ax.plot([real.min(), thrh], [real.min(), thrh], 'k--', lw=4)\n",
    "ax.set_xlim([real.min(), thrh])\n",
    "ax.set_ylim([real.min(), thrh])\n",
    "ax.set_xlabel('Real')\n",
    "ax.set_ylabel('Predicted')\n",
    "plt.show()"
   ]
  },
  {
   "cell_type": "code",
   "execution_count": 31,
   "metadata": {
    "collapsed": true
   },
   "outputs": [],
   "source": [
    "# dill.dump(pred, open('data/pred.pkd', 'w'))\n",
    "pred = dill.load(open('data/pred.pkd', 'r'))"
   ]
  },
  {
   "cell_type": "code",
   "execution_count": 32,
   "metadata": {},
   "outputs": [
    {
     "data": {
      "text/plain": [
       "0.82957509971364429"
      ]
     },
     "execution_count": 32,
     "metadata": {},
     "output_type": "execute_result"
    }
   ],
   "source": [
    "# evaluate traning performance\n",
    "from sklearn metrics import mean_absolute_error\n",
    "explained_variance_score(real, pred)"
   ]
  },
  {
   "cell_type": "code",
   "execution_count": 36,
   "metadata": {},
   "outputs": [
    {
     "data": {
      "text/plain": [
       "0.82950655077359747"
      ]
     },
     "execution_count": 36,
     "metadata": {},
     "output_type": "execute_result"
    }
   ],
   "source": [
    "from sklearn.metrics import r2_score\n",
    "r2_score(real, pred)"
   ]
  },
  {
   "cell_type": "code",
   "execution_count": 44,
   "metadata": {},
   "outputs": [],
   "source": [
    "coef = bag_of_words_est.named_steps['rf'].coef_\n",
    "names = bag_of_words_est.named_steps['tfidf'].get_feature_names()\n",
    "beta = [(d, coef[i]) for i,d in enumerate(names)]\n",
    "decrease_top40 = sorted(beta, key = operator.itemgetter(1))[0:40]\n",
    "increase_top40 = sorted(beta, key = operator.itemgetter(1), reverse = True)[0:40]"
   ]
  },
  {
   "cell_type": "code",
   "execution_count": null,
   "metadata": {
    "collapsed": true
   },
   "outputs": [],
   "source": [
    "dill.dump(decrease_top40, open('data/decrease_top40.pkd', 'w'))\n",
    "dill.dump(increase_top40, open('data/increase_top40.pkd', 'w'))"
   ]
  },
  {
   "cell_type": "code",
   "execution_count": 49,
   "metadata": {},
   "outputs": [
    {
     "data": {
      "text/plain": [
       "[(u'shed', -1554039.2669918747),\n",
       " (u'lifecycle', -1102514.5886702728),\n",
       " (u'injected', -1057689.7760556582),\n",
       " (u'hassle', -921071.3326660326),\n",
       " (u'decrypt', -863032.07196953392),\n",
       " (u'ports', -809837.56844842259),\n",
       " (u'tracing', -803028.0256146146),\n",
       " (u'charts', -802065.84013972606),\n",
       " (u'passwords', -780652.0721025489),\n",
       " (u'roles', -769291.20753870986),\n",
       " (u'conclusion', -763519.44973878027),\n",
       " (u'ultimate', -760894.64780877018),\n",
       " (u'happily', -752490.977163804),\n",
       " (u'naive', -748915.30532334989),\n",
       " (u'switches', -748621.82121054758),\n",
       " (u'backwards', -747652.86990594328),\n",
       " (u'early', -732783.95548613672),\n",
       " (u'reaches', -731880.68101134663),\n",
       " (u'funny', -731458.73281633109),\n",
       " (u'overall', -730351.37683480466),\n",
       " (u'publickeytoken', -711126.59753225395),\n",
       " (u'promising', -709543.21271445509),\n",
       " (u'17', -708040.57651684969),\n",
       " (u'improvement', -692849.03675719304),\n",
       " (u'dealt', -691376.90001474903),\n",
       " (u'legacy', -688029.58753974421),\n",
       " (u'modifications', -687780.60752594471),\n",
       " (u'unrelated', -684959.95353864541),\n",
       " (u'grows', -681261.59684725327),\n",
       " (u'risk', -680119.45269635669),\n",
       " (u'verify', -667810.93866838433),\n",
       " (u'road', -667176.43378012313),\n",
       " (u'moves', -664539.28513558779),\n",
       " (u'deploying', -662291.68251116364),\n",
       " (u'interact', -660709.59426310274),\n",
       " (u'f5', -660651.08136748499),\n",
       " (u'manages', -653894.78927384375),\n",
       " (u'incredibly', -648486.15055691614),\n",
       " (u'xls', -638808.65512076532),\n",
       " (u'extensive', -637502.44128768612)]"
      ]
     },
     "execution_count": 49,
     "metadata": {},
     "output_type": "execute_result"
    }
   ],
   "source": [
    "decrease_top40"
   ]
  },
  {
   "cell_type": "code",
   "execution_count": 50,
   "metadata": {},
   "outputs": [
    {
     "data": {
      "text/plain": [
       "[(u'sp2', 3701608.8124176771),\n",
       " (u'infrastructure', 3497371.8054280779),\n",
       " (u'surface', 3177413.4244603217),\n",
       " (u'bindings', 2711725.1027508131),\n",
       " (u'conf', 2674545.0240654158),\n",
       " (u'presses', 2298169.6580136647),\n",
       " (u'formula', 2235669.2264532689),\n",
       " (u'recall', 2088509.6955147497),\n",
       " (u'stacktrace', 2079681.0012648641),\n",
       " (u'thumb', 1918609.2404095659),\n",
       " (u'stripped', 1910777.2080717965),\n",
       " (u'configuring', 1769509.3981709173),\n",
       " (u'checkout', 1744595.5629107794),\n",
       " (u'ioc', 1722471.8600886061),\n",
       " (u'workstation', 1713043.3763345832),\n",
       " (u'material', 1697774.4276975933),\n",
       " (u'realised', 1689787.3140642119),\n",
       " (u'capturing', 1677429.0657665904),\n",
       " (u'cluster', 1665688.0930383434),\n",
       " (u'jboss', 1665547.4030652742),\n",
       " (u'jpa', 1609235.3685528571),\n",
       " (u'drives', 1596798.5503667446),\n",
       " (u'nor', 1591293.3102881648),\n",
       " (u'channel', 1569073.7959870081),\n",
       " (u'velocity', 1548305.5039284758),\n",
       " (u'mentions', 1531451.2244384924),\n",
       " (u'answering', 1524844.9582781224),\n",
       " (u'terminated', 1466445.0866224158),\n",
       " (u'binaries', 1446090.5001102632),\n",
       " (u'mime', 1444357.1423508509),\n",
       " (u'integrating', 1441854.9401161785),\n",
       " (u'drawbacks', 1423823.2766420275),\n",
       " (u'samples', 1404789.2279371074),\n",
       " (u'migrate', 1398247.0976752818),\n",
       " (u'limitations', 1392816.1074292138),\n",
       " (u'blocking', 1349942.0017456659),\n",
       " (u'gracefully', 1332104.0584070946),\n",
       " (u'liked', 1310782.4302744903),\n",
       " (u'firing', 1310278.0508537425),\n",
       " (u'mainly', 1299641.8330138407)]"
      ]
     },
     "execution_count": 50,
     "metadata": {},
     "output_type": "execute_result"
    }
   ],
   "source": [
    "increase_top40"
   ]
  },
  {
   "cell_type": "code",
   "execution_count": null,
   "metadata": {
    "collapsed": true
   },
   "outputs": [],
   "source": []
  }
 ],
 "metadata": {
  "kernelspec": {
   "display_name": "Python 2",
   "language": "python",
   "name": "python2"
  },
  "language_info": {
   "codemirror_mode": {
    "name": "ipython",
    "version": 2
   },
   "file_extension": ".py",
   "mimetype": "text/x-python",
   "name": "python",
   "nbconvert_exporter": "python",
   "pygments_lexer": "ipython2",
   "version": "2.7.13"
  }
 },
 "nbformat": 4,
 "nbformat_minor": 2
}
