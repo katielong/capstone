{
 "cells": [
  {
   "cell_type": "code",
   "execution_count": 2,
   "metadata": {
    "collapsed": true
   },
   "outputs": [],
   "source": [
    "#But sometimes people are willing to accept answers provided within certain timeframe,\n",
    "#so then the question comes down to choosing between answers provided by different users.\n",
    "#so say a user is willing to accept answers provided within one week, how to distinguish answers?\n",
    "#how many answers provided by expert vs. others (so there is maximum likelihood to solve the question)? \n",
    "\n",
    "import random\n",
    "import os\n",
    "import dill\n",
    "import operator\n",
    "import pandas as pd\n",
    "import numpy as np\n",
    "import scipy as sp\n",
    "import matplotlib.pyplot as plt\n",
    "from datetime import datetime\n",
    "import networkx as nx\n",
    "\n",
    "os.chdir('/home/vagrant/projects/stackoverflow-post')\n",
    "network = dill.load(open('data/subnetwork.pkd', 'r'))\n",
    "G = dill.load(open('G.pkd', 'r'))"
   ]
  },
  {
   "cell_type": "code",
   "execution_count": 3,
   "metadata": {
    "collapsed": true
   },
   "outputs": [],
   "source": [
    "# names = ['source', 'target', 'time']\n",
    "# df = pd.read_csv('sx-stackoverflow.txt', sep = ' ', header=None, names = names)\n",
    "# a2q = pd.read_csv('sx-stackoverflow-a2q.txt', sep = ' ', header=None, names = names)\n",
    "# c2a = pd.read_csv('sx-stackoverflow-c2a.txt', sep = ' ', header=None, names = names)\n",
    "# c2q = pd.read_csv('sx-stackoverflow-c2q.txt', sep = ' ', header=None, names = names)\n",
    "# a2q['type'] = 1 #answer to questions\n",
    "# c2a['type'] = 2 #comments to answers\n",
    "# c2q['type'] = 3 #comments to questions\n",
    "# #merge a2q, c2a, c2q to main to add type column\n",
    "# df_a2q = df.merge(a2q, on=names, how='left')\n",
    "# df_a2q_c2a = df_a2q.merge(c2a, on=names,how='left')\n",
    "# df_all = df_a2q_c2a.merge(c2q, on=names,how='left')\n",
    "# df_all['type'] = df_all.type_x.fillna(0) + df_all.type_y.fillna(0) + df_all.type.fillna(0)\n",
    "# network = df[['source', 'target', 'time']]\n",
    "# dill.dump(network, open('network.pkd', 'w'))"
   ]
  },
  {
   "cell_type": "code",
   "execution_count": 4,
   "metadata": {
    "collapsed": true
   },
   "outputs": [],
   "source": [
    "# network = dill.load(open('data/network.pkd', 'r'))"
   ]
  },
  {
   "cell_type": "code",
   "execution_count": 5,
   "metadata": {},
   "outputs": [
    {
     "data": {
      "text/html": [
       "<div>\n",
       "<style>\n",
       "    .dataframe thead tr:only-child th {\n",
       "        text-align: right;\n",
       "    }\n",
       "\n",
       "    .dataframe thead th {\n",
       "        text-align: left;\n",
       "    }\n",
       "\n",
       "    .dataframe tbody tr th {\n",
       "        vertical-align: top;\n",
       "    }\n",
       "</style>\n",
       "<table border=\"1\" class=\"dataframe\">\n",
       "  <thead>\n",
       "    <tr style=\"text-align: right;\">\n",
       "      <th></th>\n",
       "      <th>OwnerUserId</th>\n",
       "      <th>ParentId</th>\n",
       "      <th>PostTypeId</th>\n",
       "    </tr>\n",
       "  </thead>\n",
       "  <tbody>\n",
       "    <tr>\n",
       "      <th>0</th>\n",
       "      <td>8</td>\n",
       "      <td>None</td>\n",
       "      <td>1</td>\n",
       "    </tr>\n",
       "    <tr>\n",
       "      <th>1</th>\n",
       "      <td>9</td>\n",
       "      <td>None</td>\n",
       "      <td>1</td>\n",
       "    </tr>\n",
       "    <tr>\n",
       "      <th>2</th>\n",
       "      <td>9</td>\n",
       "      <td>4</td>\n",
       "      <td>2</td>\n",
       "    </tr>\n",
       "    <tr>\n",
       "      <th>3</th>\n",
       "      <td>1</td>\n",
       "      <td>None</td>\n",
       "      <td>1</td>\n",
       "    </tr>\n",
       "    <tr>\n",
       "      <th>4</th>\n",
       "      <td>1</td>\n",
       "      <td>None</td>\n",
       "      <td>1</td>\n",
       "    </tr>\n",
       "  </tbody>\n",
       "</table>\n",
       "</div>"
      ],
      "text/plain": [
       "  OwnerUserId ParentId PostTypeId\n",
       "0           8     None          1\n",
       "1           9     None          1\n",
       "2           9        4          2\n",
       "3           1     None          1\n",
       "4           1     None          1"
      ]
     },
     "execution_count": 5,
     "metadata": {},
     "output_type": "execute_result"
    }
   ],
   "source": [
    "network.head()"
   ]
  },
  {
   "cell_type": "code",
   "execution_count": 34,
   "metadata": {},
   "outputs": [],
   "source": [
    "nodes = np.unique(np.concatenate((network.OwnerUserId.unique(), network.ParentId.unique())))\n",
    "edges = network.apply(lambda row: (row['OwnerUserId'], row['ParentId']) if int(row['PostTypeId']) == 2 else None, axis = 1)"
   ]
  },
  {
   "cell_type": "code",
   "execution_count": 43,
   "metadata": {},
   "outputs": [],
   "source": [
    "edges = list(edges.dropna())\n",
    "nodes = list(pd.Series(nodes).dropna())"
   ]
  },
  {
   "cell_type": "code",
   "execution_count": 46,
   "metadata": {
    "collapsed": true
   },
   "outputs": [],
   "source": [
    "G=nx.MultiDiGraph()\n",
    "G.add_nodes_from(nodes)\n",
    "G.add_edges_from(edges)\n",
    "dill.dump(G, open('G.pkd', 'w'))"
   ]
  },
  {
   "cell_type": "code",
   "execution_count": 49,
   "metadata": {},
   "outputs": [
    {
     "data": {
      "text/plain": [
       "146470"
      ]
     },
     "execution_count": 49,
     "metadata": {},
     "output_type": "execute_result"
    }
   ],
   "source": [
    "G.__len__()"
   ]
  },
  {
   "cell_type": "code",
   "execution_count": null,
   "metadata": {},
   "outputs": [],
   "source": []
  },
  {
   "cell_type": "code",
   "execution_count": 74,
   "metadata": {},
   "outputs": [],
   "source": [
    "dg = pd.Series([G.degree(node) for node in nodes], name = 'degree', index = nodes)\n",
    "idg = pd.Series([G.in_degree(node) for node in nodes], name = 'in degree', index = nodes)\n",
    "odg = pd.Series([G.out_degree(node) for node in nodes], name = 'out degree', index = nodes)\n",
    "dc = pd.Series(nx.degree_centrality(G), name = 'degree centrality', index = nodes)\n",
    "idc = pd.Series(nx.in_degree_centrality(G),name = 'in degree centrality', index = nodes)\n",
    "odc = pd.Series(nx.out_degree_centrality(G),name = 'out degree centrality', index = nodes)"
   ]
  },
  {
   "cell_type": "code",
   "execution_count": 79,
   "metadata": {
    "collapsed": true
   },
   "outputs": [],
   "source": [
    "centrality = pd.concat([dg, idg, odg, dc, idc, odc], axis = 1)\n",
    "dill.dump(centrality, open('centrality.pkd', 'w'))"
   ]
  },
  {
   "cell_type": "code",
   "execution_count": 88,
   "metadata": {},
   "outputs": [
    {
     "data": {
      "text/html": [
       "<div>\n",
       "<style>\n",
       "    .dataframe thead tr:only-child th {\n",
       "        text-align: right;\n",
       "    }\n",
       "\n",
       "    .dataframe thead th {\n",
       "        text-align: left;\n",
       "    }\n",
       "\n",
       "    .dataframe tbody tr th {\n",
       "        vertical-align: top;\n",
       "    }\n",
       "</style>\n",
       "<table border=\"1\" class=\"dataframe\">\n",
       "  <thead>\n",
       "    <tr style=\"text-align: right;\">\n",
       "      <th></th>\n",
       "      <th>degree</th>\n",
       "      <th>in degree</th>\n",
       "      <th>out degree</th>\n",
       "      <th>degree centrality</th>\n",
       "      <th>in degree centrality</th>\n",
       "      <th>out degree centrality</th>\n",
       "    </tr>\n",
       "  </thead>\n",
       "  <tbody>\n",
       "    <tr>\n",
       "      <th>22656</th>\n",
       "      <td>2616</td>\n",
       "      <td>0</td>\n",
       "      <td>2616</td>\n",
       "      <td>0.017860</td>\n",
       "      <td>0.000000</td>\n",
       "      <td>0.017860</td>\n",
       "    </tr>\n",
       "    <tr>\n",
       "      <th>23354</th>\n",
       "      <td>2050</td>\n",
       "      <td>0</td>\n",
       "      <td>2050</td>\n",
       "      <td>0.013996</td>\n",
       "      <td>0.000000</td>\n",
       "      <td>0.013996</td>\n",
       "    </tr>\n",
       "    <tr>\n",
       "      <th>12950</th>\n",
       "      <td>1534</td>\n",
       "      <td>0</td>\n",
       "      <td>1534</td>\n",
       "      <td>0.010473</td>\n",
       "      <td>0.000000</td>\n",
       "      <td>0.010473</td>\n",
       "    </tr>\n",
       "    <tr>\n",
       "      <th>3043</th>\n",
       "      <td>1395</td>\n",
       "      <td>0</td>\n",
       "      <td>1395</td>\n",
       "      <td>0.009524</td>\n",
       "      <td>0.000000</td>\n",
       "      <td>0.009524</td>\n",
       "    </tr>\n",
       "    <tr>\n",
       "      <th>10661</th>\n",
       "      <td>1105</td>\n",
       "      <td>2</td>\n",
       "      <td>1103</td>\n",
       "      <td>0.007544</td>\n",
       "      <td>0.000014</td>\n",
       "      <td>0.007531</td>\n",
       "    </tr>\n",
       "  </tbody>\n",
       "</table>\n",
       "</div>"
      ],
      "text/plain": [
       "       degree  in degree  out degree  degree centrality  in degree centrality  \\\n",
       "22656    2616          0        2616           0.017860              0.000000   \n",
       "23354    2050          0        2050           0.013996              0.000000   \n",
       "12950    1534          0        1534           0.010473              0.000000   \n",
       "3043     1395          0        1395           0.009524              0.000000   \n",
       "10661    1105          2        1103           0.007544              0.000014   \n",
       "\n",
       "       out degree centrality  \n",
       "22656               0.017860  \n",
       "23354               0.013996  \n",
       "12950               0.010473  \n",
       "3043                0.009524  \n",
       "10661               0.007531  "
      ]
     },
     "execution_count": 88,
     "metadata": {},
     "output_type": "execute_result"
    }
   ],
   "source": [
    "centrality.sort_values(by='degree centrality', ascending = False).head()"
   ]
  },
  {
   "cell_type": "code",
   "execution_count": 122,
   "metadata": {},
   "outputs": [
    {
     "data": {
      "text/html": [
       "<div>\n",
       "<style>\n",
       "    .dataframe thead tr:only-child th {\n",
       "        text-align: right;\n",
       "    }\n",
       "\n",
       "    .dataframe thead th {\n",
       "        text-align: left;\n",
       "    }\n",
       "\n",
       "    .dataframe tbody tr th {\n",
       "        vertical-align: top;\n",
       "    }\n",
       "</style>\n",
       "<table border=\"1\" class=\"dataframe\">\n",
       "  <thead>\n",
       "    <tr style=\"text-align: right;\">\n",
       "      <th></th>\n",
       "      <th>degree</th>\n",
       "      <th>in degree</th>\n",
       "      <th>out degree</th>\n",
       "      <th>degree centrality</th>\n",
       "      <th>in degree centrality</th>\n",
       "      <th>out degree centrality</th>\n",
       "    </tr>\n",
       "  </thead>\n",
       "  <tbody>\n",
       "    <tr>\n",
       "      <th>244645</th>\n",
       "      <td>10</td>\n",
       "      <td>10</td>\n",
       "      <td>0</td>\n",
       "      <td>0.000068</td>\n",
       "      <td>0.000068</td>\n",
       "      <td>0.000000</td>\n",
       "    </tr>\n",
       "    <tr>\n",
       "      <th>189087</th>\n",
       "      <td>10</td>\n",
       "      <td>10</td>\n",
       "      <td>0</td>\n",
       "      <td>0.000068</td>\n",
       "      <td>0.000068</td>\n",
       "      <td>0.000000</td>\n",
       "    </tr>\n",
       "    <tr>\n",
       "      <th>230241</th>\n",
       "      <td>10</td>\n",
       "      <td>10</td>\n",
       "      <td>0</td>\n",
       "      <td>0.000068</td>\n",
       "      <td>0.000068</td>\n",
       "      <td>0.000000</td>\n",
       "    </tr>\n",
       "    <tr>\n",
       "      <th>40361</th>\n",
       "      <td>10</td>\n",
       "      <td>5</td>\n",
       "      <td>5</td>\n",
       "      <td>0.000068</td>\n",
       "      <td>0.000034</td>\n",
       "      <td>0.000034</td>\n",
       "    </tr>\n",
       "    <tr>\n",
       "      <th>289329</th>\n",
       "      <td>10</td>\n",
       "      <td>10</td>\n",
       "      <td>0</td>\n",
       "      <td>0.000068</td>\n",
       "      <td>0.000068</td>\n",
       "      <td>0.000000</td>\n",
       "    </tr>\n",
       "  </tbody>\n",
       "</table>\n",
       "</div>"
      ],
      "text/plain": [
       "        degree  in degree  out degree  degree centrality  \\\n",
       "244645      10         10           0           0.000068   \n",
       "189087      10         10           0           0.000068   \n",
       "230241      10         10           0           0.000068   \n",
       "40361       10          5           5           0.000068   \n",
       "289329      10         10           0           0.000068   \n",
       "\n",
       "        in degree centrality  out degree centrality  \n",
       "244645              0.000068               0.000000  \n",
       "189087              0.000068               0.000000  \n",
       "230241              0.000068               0.000000  \n",
       "40361               0.000034               0.000034  \n",
       "289329              0.000068               0.000000  "
      ]
     },
     "execution_count": 122,
     "metadata": {},
     "output_type": "execute_result"
    }
   ],
   "source": [
    "centrality.loc[centrality.degree <= 10, ].sort_values(by = 'degree', ascending = False).head()"
   ]
  },
  {
   "cell_type": "code",
   "execution_count": 232,
   "metadata": {},
   "outputs": [],
   "source": [
    "def addNNeighbors(node):\n",
    "    allNeighbor = len([i for i in nx.all_neighbors(G, node)])\n",
    "    outNeighbor = len(nx.neighbors(G, node))\n",
    "    inNeighbor = allNeighbor - outNeighbor\n",
    "    return {'allN': allNeighbor, 'outN': outNeighbor, 'inN':inNeighbor};\n",
    "\n",
    "centrality['allN'] = pd.Series(centrality.apply(lambda row: addNNeighbors(row.name)['allN'], axis = 1))\n",
    "centrality['outN'] = pd.Series(centrality.apply(lambda row: addNNeighbors(row.name)['outN'], axis = 1))\n",
    "centrality['inN'] = pd.Series(centrality.apply(lambda row: addNNeighbors(row.name)['inN'], axis = 1))\n",
    "centrality['avg_n_contact'] = centrality['degree']/centrality['allN']\n",
    "centrality['avg_n_in_contact'] = centrality['in degree']/centrality['inN']\n",
    "centrality['avg_n_out_contact'] = centrality['out degree']/centrality['outN']"
   ]
  },
  {
   "cell_type": "code",
   "execution_count": 235,
   "metadata": {},
   "outputs": [
    {
     "data": {
      "text/html": [
       "<div>\n",
       "<style>\n",
       "    .dataframe thead tr:only-child th {\n",
       "        text-align: right;\n",
       "    }\n",
       "\n",
       "    .dataframe thead th {\n",
       "        text-align: left;\n",
       "    }\n",
       "\n",
       "    .dataframe tbody tr th {\n",
       "        vertical-align: top;\n",
       "    }\n",
       "</style>\n",
       "<table border=\"1\" class=\"dataframe\">\n",
       "  <thead>\n",
       "    <tr style=\"text-align: right;\">\n",
       "      <th></th>\n",
       "      <th>degree</th>\n",
       "      <th>in degree</th>\n",
       "      <th>out degree</th>\n",
       "      <th>degree centrality</th>\n",
       "      <th>in degree centrality</th>\n",
       "      <th>out degree centrality</th>\n",
       "      <th>allN</th>\n",
       "      <th>outN</th>\n",
       "      <th>inN</th>\n",
       "      <th>avg_n_contact</th>\n",
       "      <th>avg_n_in_contact</th>\n",
       "      <th>avg_n_out_contact</th>\n",
       "    </tr>\n",
       "  </thead>\n",
       "  <tbody>\n",
       "    <tr>\n",
       "      <th>528519</th>\n",
       "      <td>7</td>\n",
       "      <td>7</td>\n",
       "      <td>0</td>\n",
       "      <td>0.000048</td>\n",
       "      <td>0.000048</td>\n",
       "      <td>0.000000</td>\n",
       "      <td>1</td>\n",
       "      <td>0</td>\n",
       "      <td>1</td>\n",
       "      <td>7.000000</td>\n",
       "      <td>7.000000</td>\n",
       "      <td>NaN</td>\n",
       "    </tr>\n",
       "    <tr>\n",
       "      <th>Kociub</th>\n",
       "      <td>6</td>\n",
       "      <td>0</td>\n",
       "      <td>6</td>\n",
       "      <td>0.000041</td>\n",
       "      <td>0.000000</td>\n",
       "      <td>0.000041</td>\n",
       "      <td>1</td>\n",
       "      <td>1</td>\n",
       "      <td>0</td>\n",
       "      <td>6.000000</td>\n",
       "      <td>NaN</td>\n",
       "      <td>6.0</td>\n",
       "    </tr>\n",
       "    <tr>\n",
       "      <th>Mike Moyle</th>\n",
       "      <td>10</td>\n",
       "      <td>0</td>\n",
       "      <td>10</td>\n",
       "      <td>0.000068</td>\n",
       "      <td>0.000000</td>\n",
       "      <td>0.000068</td>\n",
       "      <td>2</td>\n",
       "      <td>2</td>\n",
       "      <td>0</td>\n",
       "      <td>5.000000</td>\n",
       "      <td>NaN</td>\n",
       "      <td>5.0</td>\n",
       "    </tr>\n",
       "    <tr>\n",
       "      <th>211216</th>\n",
       "      <td>13</td>\n",
       "      <td>13</td>\n",
       "      <td>0</td>\n",
       "      <td>0.000089</td>\n",
       "      <td>0.000089</td>\n",
       "      <td>0.000000</td>\n",
       "      <td>3</td>\n",
       "      <td>0</td>\n",
       "      <td>3</td>\n",
       "      <td>4.333333</td>\n",
       "      <td>4.333333</td>\n",
       "      <td>NaN</td>\n",
       "    </tr>\n",
       "    <tr>\n",
       "      <th>209778</th>\n",
       "      <td>21</td>\n",
       "      <td>21</td>\n",
       "      <td>0</td>\n",
       "      <td>0.000143</td>\n",
       "      <td>0.000143</td>\n",
       "      <td>0.000000</td>\n",
       "      <td>5</td>\n",
       "      <td>0</td>\n",
       "      <td>5</td>\n",
       "      <td>4.200000</td>\n",
       "      <td>4.200000</td>\n",
       "      <td>NaN</td>\n",
       "    </tr>\n",
       "  </tbody>\n",
       "</table>\n",
       "</div>"
      ],
      "text/plain": [
       "            degree  in degree  out degree  degree centrality  \\\n",
       "528519           7          7           0           0.000048   \n",
       "Kociub           6          0           6           0.000041   \n",
       "Mike Moyle      10          0          10           0.000068   \n",
       "211216          13         13           0           0.000089   \n",
       "209778          21         21           0           0.000143   \n",
       "\n",
       "            in degree centrality  out degree centrality  allN  outN  inN  \\\n",
       "528519                  0.000048               0.000000     1     0    1   \n",
       "Kociub                  0.000000               0.000041     1     1    0   \n",
       "Mike Moyle              0.000000               0.000068     2     2    0   \n",
       "211216                  0.000089               0.000000     3     0    3   \n",
       "209778                  0.000143               0.000000     5     0    5   \n",
       "\n",
       "            avg_n_contact  avg_n_in_contact  avg_n_out_contact  \n",
       "528519           7.000000          7.000000                NaN  \n",
       "Kociub           6.000000               NaN                6.0  \n",
       "Mike Moyle       5.000000               NaN                5.0  \n",
       "211216           4.333333          4.333333                NaN  \n",
       "209778           4.200000          4.200000                NaN  "
      ]
     },
     "execution_count": 235,
     "metadata": {},
     "output_type": "execute_result"
    }
   ],
   "source": [
    "centrality.sort_values(by='avg_n_contact', ascending = False).head() #max is 7 interactions per user with the same other person"
   ]
  },
  {
   "cell_type": "code",
   "execution_count": 237,
   "metadata": {},
   "outputs": [
    {
     "data": {
      "image/png": "[encoded data removed]",
      "text/plain": [
       "<matplotlib.figure.Figure at 0x7f65fc739bd0>"
      ]
     },
     "metadata": {},
     "output_type": "display_data"
    },
    {
     "data": {
      "text/plain": [
       "<matplotlib.figure.Figure at 0x7f65fe58db10>"
      ]
     },
     "metadata": {},
     "output_type": "display_data"
    }
   ],
   "source": [
    "neighbors = [i for i in nx.all_neighbors(G, '40361')] \n",
    "# neighbors #8 neighbors but degree = 10, degree takes into account of multiple edges\n",
    "# len(nx.neighbors(G, '40361')) #number of neighbors for out degree\n",
    "# len(neighbors) - len(nx.neighbors(G, '40361'))#number of neighbors for in degree\n",
    "ego = nx.ego_graph(G, '40361', undirected = True)\n",
    "pos = nx.spring_layout(ego)\n",
    "nx.draw(ego, pos, node_color='b', node_size = 100, with_labels = True)\n",
    "nx.draw_networkx_nodes(ego, pos, nodelist = ['40361'], node_size = 200, node_color='r')\n",
    "nx.draw_networkx_nodes(ego, pos, nodelist = ['1019', '4203', '2679'], node_size = 100, node_color='g')\n",
    "# nx.draw_networkx_edge_labels(ego, pos, edge_labels = )\n",
    "plt.figure(figsize=(100,350))\n",
    "plt.show()"
   ]
  },
  {
   "cell_type": "code",
   "execution_count": 236,
   "metadata": {},
   "outputs": [],
   "source": [
    "dill.dump(centrality, open('centrality.pkd', 'w'))"
   ]
  },
  {
   "cell_type": "code",
   "execution_count": 240,
   "metadata": {},
   "outputs": [
    {
     "data": {
      "text/html": [
       "<div>\n",
       "<style>\n",
       "    .dataframe thead tr:only-child th {\n",
       "        text-align: right;\n",
       "    }\n",
       "\n",
       "    .dataframe thead th {\n",
       "        text-align: left;\n",
       "    }\n",
       "\n",
       "    .dataframe tbody tr th {\n",
       "        vertical-align: top;\n",
       "    }\n",
       "</style>\n",
       "<table border=\"1\" class=\"dataframe\">\n",
       "  <thead>\n",
       "    <tr style=\"text-align: right;\">\n",
       "      <th></th>\n",
       "      <th>degree</th>\n",
       "      <th>in degree</th>\n",
       "      <th>out degree</th>\n",
       "      <th>degree centrality</th>\n",
       "      <th>in degree centrality</th>\n",
       "      <th>out degree centrality</th>\n",
       "      <th>allN</th>\n",
       "      <th>outN</th>\n",
       "      <th>inN</th>\n",
       "      <th>avg_n_contact</th>\n",
       "      <th>avg_n_in_contact</th>\n",
       "      <th>avg_n_out_contact</th>\n",
       "    </tr>\n",
       "  </thead>\n",
       "  <tbody>\n",
       "    <tr>\n",
       "      <th>essexboyracer</th>\n",
       "      <td>4</td>\n",
       "      <td>0</td>\n",
       "      <td>4</td>\n",
       "      <td>0.000027</td>\n",
       "      <td>0.0</td>\n",
       "      <td>0.000027</td>\n",
       "      <td>4</td>\n",
       "      <td>4</td>\n",
       "      <td>0</td>\n",
       "      <td>1.0</td>\n",
       "      <td>NaN</td>\n",
       "      <td>1.0</td>\n",
       "    </tr>\n",
       "  </tbody>\n",
       "</table>\n",
       "</div>"
      ],
      "text/plain": [
       "               degree  in degree  out degree  degree centrality  \\\n",
       "essexboyracer       4          0           4           0.000027   \n",
       "\n",
       "               in degree centrality  out degree centrality  allN  outN  inN  \\\n",
       "essexboyracer                   0.0               0.000027     4     4    0   \n",
       "\n",
       "               avg_n_contact  avg_n_in_contact  avg_n_out_contact  \n",
       "essexboyracer            1.0               NaN                1.0  "
      ]
     },
     "execution_count": 240,
     "metadata": {},
     "output_type": "execute_result"
    }
   ],
   "source": [
    "centrality.loc[centrality.index == 'essexboyracer',]"
   ]
  },
  {
   "cell_type": "code",
   "execution_count": null,
   "metadata": {
    "collapsed": true
   },
   "outputs": [],
   "source": []
  }
 ],
 "metadata": {
  "kernelspec": {
   "display_name": "Python 2",
   "language": "python",
   "name": "python2"
  },
  "language_info": {
   "codemirror_mode": {
    "name": "ipython",
    "version": 2
   },
   "file_extension": ".py",
   "mimetype": "text/x-python",
   "name": "python",
   "nbconvert_exporter": "python",
   "pygments_lexer": "ipython2",
   "version": "2.7.13"
  }
 },
 "nbformat": 4,
 "nbformat_minor": 2
}
