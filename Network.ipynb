{
 "cells": [
  {
   "cell_type": "code",
   "execution_count": 1,
   "metadata": {},
   "outputs": [],
   "source": [
    "#But sometimes people are willing to accept answers provided within certain timeframe,\n",
    "#so then the question comes down to choosing between answers provided by different users.\n",
    "#so say a user is willing to accept answers provided within one week, how to distinguish answers?\n",
    "#how many answers provided by expert vs. others (so there is maximum likelihood to solve the question)? \n",
    "\n",
    "import random\n",
    "import os\n",
    "import dill\n",
    "import operator\n",
    "import pandas as pd\n",
    "import numpy as np\n",
    "import scipy as sp\n",
    "import matplotlib.pyplot as plt\n",
    "from datetime import datetime\n",
    "import networkx as nx\n",
    "\n",
    "os.chdir('/Users/longy/Documents/TDI/capstone')"
   ]
  },
  {
   "cell_type": "code",
   "execution_count": null,
   "metadata": {},
   "outputs": [],
   "source": [
    "names = ['source', 'target', 'time']\n",
    "df = pd.read_csv('sx-stackoverflow.txt', sep = ' ', header=None, names = names)\n",
    "a2q = pd.read_csv('sx-stackoverflow-a2q.txt', sep = ' ', header=None, names = names)\n",
    "c2a = pd.read_csv('sx-stackoverflow-c2a.txt', sep = ' ', header=None, names = names)\n",
    "c2q = pd.read_csv('sx-stackoverflow-c2q.txt', sep = ' ', header=None, names = names)\n",
    "a2q['type'] = 1 #answer to questions\n",
    "c2a['type'] = 2 #comments to answers\n",
    "c2q['type'] = 3 #comments to questions\n",
    "#merge a2q, c2a, c2q to main to add type column\n",
    "df_a2q = df.merge(a2q, on=names, how='left')\n",
    "df_a2q_c2a = df_a2q.merge(c2a, on=names,how='left')\n",
    "df_all = df_a2q_c2a.merge(c2q, on=names,how='left')\n",
    "df_all['type'] = df_all.type_x.fillna(0) + df_all.type_y.fillna(0) + df_all.type.fillna(0)\n",
    "network = df[['source', 'target', 'time']]\n",
    "dill.dump(network, open('network.pkd', 'w'))"
   ]
  },
  {
   "cell_type": "code",
   "execution_count": 2,
   "metadata": {},
   "outputs": [],
   "source": [
    "network = dill.load(open('network.pkd', 'r'))"
   ]
  },
  {
   "cell_type": "code",
   "execution_count": 3,
   "metadata": {},
   "outputs": [
    {
     "data": {
      "text/html": [
       "<div>\n",
       "<style scoped>\n",
       "    .dataframe tbody tr th:only-of-type {\n",
       "        vertical-align: middle;\n",
       "    }\n",
       "\n",
       "    .dataframe tbody tr th {\n",
       "        vertical-align: top;\n",
       "    }\n",
       "\n",
       "    .dataframe thead th {\n",
       "        text-align: right;\n",
       "    }\n",
       "</style>\n",
       "<table border=\"1\" class=\"dataframe\">\n",
       "  <thead>\n",
       "    <tr style=\"text-align: right;\">\n",
       "      <th></th>\n",
       "      <th>source</th>\n",
       "      <th>target</th>\n",
       "      <th>time</th>\n",
       "    </tr>\n",
       "  </thead>\n",
       "  <tbody>\n",
       "    <tr>\n",
       "      <th>0</th>\n",
       "      <td>9</td>\n",
       "      <td>8</td>\n",
       "      <td>1217567877</td>\n",
       "    </tr>\n",
       "    <tr>\n",
       "      <th>1</th>\n",
       "      <td>1</td>\n",
       "      <td>1</td>\n",
       "      <td>1217573801</td>\n",
       "    </tr>\n",
       "    <tr>\n",
       "      <th>2</th>\n",
       "      <td>13</td>\n",
       "      <td>1</td>\n",
       "      <td>1217606247</td>\n",
       "    </tr>\n",
       "    <tr>\n",
       "      <th>3</th>\n",
       "      <td>17</td>\n",
       "      <td>1</td>\n",
       "      <td>1217617639</td>\n",
       "    </tr>\n",
       "    <tr>\n",
       "      <th>4</th>\n",
       "      <td>48</td>\n",
       "      <td>2</td>\n",
       "      <td>1217618182</td>\n",
       "    </tr>\n",
       "  </tbody>\n",
       "</table>\n",
       "</div>"
      ],
      "text/plain": [
       "   source  target        time\n",
       "0       9       8  1217567877\n",
       "1       1       1  1217573801\n",
       "2      13       1  1217606247\n",
       "3      17       1  1217617639\n",
       "4      48       2  1217618182"
      ]
     },
     "execution_count": 3,
     "metadata": {},
     "output_type": "execute_result"
    }
   ],
   "source": [
    "network.head()"
   ]
  },
  {
   "cell_type": "code",
   "execution_count": null,
   "metadata": {},
   "outputs": [],
   "source": [
    "def makeEdge(a,b):\n",
    "    return a,b\n",
    "nodes = np.unique(np.concatenate((network.source.unique(), network.target.unique())))\n",
    "edges = network.apply(lambda row: makeEdge(row['source'], row['target']), axis = 1)"
   ]
  },
  {
   "cell_type": "code",
   "execution_count": null,
   "metadata": {},
   "outputs": [],
   "source": [
    "dill.dump(nodes, open('nodes.pkd', 'w'))\n",
    "dill.dump(edges, open('edges.pkd', 'w'))"
   ]
  },
  {
   "cell_type": "code",
   "execution_count": null,
   "metadata": {},
   "outputs": [],
   "source": [
    "G=nx.MultiDiGraph()\n",
    "G.add_nodes_from(nodes)\n",
    "G.add_edges_from(edges)"
   ]
  },
  {
   "cell_type": "code",
   "execution_count": null,
   "metadata": {},
   "outputs": [],
   "source": [
    "edges.head()"
   ]
  },
  {
   "cell_type": "code",
   "execution_count": null,
   "metadata": {},
   "outputs": [],
   "source": []
  }
 ],
 "metadata": {
  "kernelspec": {
   "display_name": "Python 2",
   "language": "python",
   "name": "python2"
  },
  "language_info": {
   "codemirror_mode": {
    "name": "ipython",
    "version": 2
   },
   "file_extension": ".py",
   "mimetype": "text/x-python",
   "name": "python",
   "nbconvert_exporter": "python",
   "pygments_lexer": "ipython2",
   "version": "2.7.14"
  }
 },
 "nbformat": 4,
 "nbformat_minor": 2
}
