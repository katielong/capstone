{
 "cells": [
  {
   "cell_type": "markdown",
   "metadata": {
    "slideshow": {
     "slide_type": "slide"
    }
   },
   "source": [
    "# StackSMART\n",
    "## Predict waiting time to get answers on Stack Overflow\n",
    "<img src=\"img/intro\" alt=\"Drawing\" style=\"width: 700px; height: 500px;\"/>"
   ]
  },
  {
   "cell_type": "markdown",
   "metadata": {
    "slideshow": {
     "slide_type": "slide"
    }
   },
   "source": [
    "## Data\n",
    "#### Stack Exchange DataDump: https://archive.org/download/stackexchange\n",
    "#### Stanford University SNAP Network Datasets: http://snap.stanford.edu/data/sx-stackoverflow.html\n",
    "## Features\n",
    "#### Post Characteristics: Language used, length of post, tags\n",
    "#### User Network Characteristics\n",
    "#### Others: Time of posting\n",
    "## Model\n",
    "#### Combination of Linear Regression and Random Forest"
   ]
  },
  {
   "cell_type": "code",
   "execution_count": null,
   "metadata": {
    "slideshow": {
     "slide_type": "subslide"
    }
   },
   "outputs": [],
   "source": [
    "# Random Forest Estimator\n",
    "md_range = np.arange(2,22,2) #search max_depth = 2:20\n",
    "msl_range = np.arange(20,35,5) #search min_samples_leaf = 20,25,30,35\n",
    "ne_range = np.arange(10,40,5) #search n_estimators = 10,15,20,25,30,35\n",
    "est = RandomForestRegressor()\n",
    "rf = model_selection.GridSearchCV(\n",
    "    est, \n",
    "    {'max_depth': md_range,\n",
    "    'min_samples_leaf': msl_range,\n",
    "    'n_estimators': ne_range},\n",
    "    cv = 10,\n",
    "    n_jobs = 5,\n",
    "    scoring = 'neg_mean_squared_error'\n",
    ")"
   ]
  },
  {
   "cell_type": "markdown",
   "metadata": {
    "slideshow": {
     "slide_type": "slide"
    }
   },
   "source": [
    "## Prediction Result (Mean Absolute Error: 0.83, R Squared: 0.83)\n",
    "<img src=\"img/predRealScatter\" alt=\"Drawing\" style=\"width: 600px; height: 600px;\"/>"
   ]
  },
  {
   "cell_type": "markdown",
   "metadata": {
    "slideshow": {
     "slide_type": "slide"
    }
   },
   "source": [
    "## Top 40 Words that Increase or Decrease Waiting Time\n",
    "<img src=\"img/top40Words\" alt=\"Drawing\" style=\"width: 700px; height: 600px;\"/>"
   ]
  },
  {
   "cell_type": "markdown",
   "metadata": {
    "collapsed": true,
    "slideshow": {
     "slide_type": "slide"
    }
   },
   "source": [
    "## Link to App: http://localhost:8888/"
   ]
  }
 ],
 "metadata": {
  "celltoolbar": "Slideshow",
  "kernelspec": {
   "display_name": "Python 2",
   "language": "python",
   "name": "python2"
  },
  "language_info": {
   "codemirror_mode": {
    "name": "ipython",
    "version": 2
   },
   "file_extension": ".py",
   "mimetype": "text/x-python",
   "name": "python",
   "nbconvert_exporter": "python",
   "pygments_lexer": "ipython2",
   "version": "2.7.14"
  }
 },
 "nbformat": 4,
 "nbformat_minor": 2
}
