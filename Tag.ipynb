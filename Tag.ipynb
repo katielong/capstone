{
 "cells": [
  {
   "cell_type": "code",
   "execution_count": 2,
   "metadata": {},
   "outputs": [],
   "source": [
    "import xml.etree.ElementTree as ET\n",
    "import os\n",
    "import dill\n",
    "import pandas as pd\n",
    "from datetime import datetime\n",
    "import operator\n",
    "import re\n",
    "import bokeh\n",
    "\n",
    "from sklearn import base\n",
    "from sklearn.feature_extraction import DictVectorizer\n",
    "from sklearn.pipeline import FeatureUnion, Pipeline\n",
    "\n",
    "os.chdir('/Users/longy/Documents/TDI/capstone')\n",
    "df = dill.load(open('df.pkd', 'r'))"
   ]
  },
  {
   "cell_type": "code",
   "execution_count": 3,
   "metadata": {},
   "outputs": [],
   "source": [
    "tag_count = dict()\n",
    "for tag in df.q_tag:\n",
    "    li = tag.split('><')\n",
    "    for j in li:\n",
    "        j = j.replace('<', '')\n",
    "        j = j.replace('>', '')\n",
    "        if j not in tag_count:\n",
    "            tag_count[j] = 1\n",
    "        else:\n",
    "            tag_count[j] += 1\n",
    "sortedTags = sorted(tag_count.items(), key = operator.itemgetter(1), reverse = True)\n",
    "selectedTags = {k:v for k,v in sortedTags if v>=len(df)*0.01} #use 1% as threshold to create matrix for tags"
   ]
  },
  {
   "cell_type": "code",
   "execution_count": 4,
   "metadata": {},
   "outputs": [
    {
     "data": {
      "text/plain": [
       "{'.net': 10512,\n",
       " 'ajax': 1185,\n",
       " 'algorithm': 1108,\n",
       " 'asp.net': 7212,\n",
       " 'asp.net-mvc': 1959,\n",
       " 'c': 2207,\n",
       " 'c#': 15092,\n",
       " 'c++': 5771,\n",
       " 'css': 1873,\n",
       " 'database': 2131,\n",
       " 'html': 2724,\n",
       " 'iphone': 1681,\n",
       " 'java': 7855,\n",
       " 'javascript': 5307,\n",
       " 'jquery': 2319,\n",
       " 'linq': 1177,\n",
       " 'linux': 1517,\n",
       " 'multithreading': 1176,\n",
       " 'mysql': 2279,\n",
       " 'performance': 1524,\n",
       " 'php': 4458,\n",
       " 'python': 4005,\n",
       " 'regex': 1325,\n",
       " 'ruby': 1697,\n",
       " 'ruby-on-rails': 1660,\n",
       " 'security': 1098,\n",
       " 'sql': 3857,\n",
       " 'sql-server': 3658,\n",
       " 'svn': 1236,\n",
       " 'unit-testing': 1109,\n",
       " 'vb.net': 1799,\n",
       " 'visual-studio': 2081,\n",
       " 'visual-studio-2008': 1424,\n",
       " 'web-services': 1170,\n",
       " 'windows': 2554,\n",
       " 'winforms': 1706,\n",
       " 'wpf': 1867,\n",
       " 'xml': 1737}"
      ]
     },
     "execution_count": 4,
     "metadata": {},
     "output_type": "execute_result"
    }
   ],
   "source": [
    "selectedTags #tags that have at least 1% coverage in df"
   ]
  },
  {
   "cell_type": "code",
   "execution_count": 5,
   "metadata": {},
   "outputs": [],
   "source": [
    "class DictEncoder(base.BaseEstimator, base.TransformerMixin):\n",
    "    def fit(self, X, y=None):\n",
    "        return self\n",
    "\n",
    "    def transform(self, X):\n",
    "        result = []\n",
    "        for lst in X:\n",
    "            arr = lst.split('><')\n",
    "            d = dict()\n",
    "            for i in arr:\n",
    "                i = i.replace('<', '')\n",
    "                i = i.replace('>', '')\n",
    "                if i in selectedTags:\n",
    "                    d[i] = 1\n",
    "            result.append(d)\n",
    "        return result\n",
    "    \n",
    "de = DictEncoder()\n",
    "dv = DictVectorizer(sparse = False)\n",
    "tag_dict = de.fit_transform(df.q_tag)\n",
    "tag_mat = dv.fit_transform(tag_dict)"
   ]
  },
  {
   "cell_type": "code",
   "execution_count": 6,
   "metadata": {},
   "outputs": [],
   "source": [
    "tag_pd = pd.DataFrame(tag_mat, columns = dv.get_feature_names())\n",
    "df_tag = pd.concat([df, tag_pd], axis = 1)"
   ]
  },
  {
   "cell_type": "code",
   "execution_count": 23,
   "metadata": {},
   "outputs": [],
   "source": [
    "tag_summary = []\n",
    "for name in dv.get_feature_names():\n",
    "    summary = df_tag.groupby(name)['fa_time'].describe()\n",
    "    summary['name'] = name\n",
    "    tag_summary.append(summary)\n",
    "tag_summary = pd.concat(tag_summary)"
   ]
  },
  {
   "cell_type": "code",
   "execution_count": 25,
   "metadata": {},
   "outputs": [],
   "source": [
    "dill.dump(tag_summary, open('tag_summary.pkd', 'w'))\n",
    "dill.dump(df_tag, open('df_tag.pkd', 'w'))\n",
    "# df_tag.to_csv('viz/df_tag.csv', encoding='utf-8')"
   ]
  }
 ],
 "metadata": {
  "kernelspec": {
   "display_name": "Python 2",
   "language": "python",
   "name": "python2"
  },
  "language_info": {
   "codemirror_mode": {
    "name": "ipython",
    "version": 2
   },
   "file_extension": ".py",
   "mimetype": "text/x-python",
   "name": "python",
   "nbconvert_exporter": "python",
   "pygments_lexer": "ipython2",
   "version": "2.7.14"
  }
 },
 "nbformat": 4,
 "nbformat_minor": 2
}
